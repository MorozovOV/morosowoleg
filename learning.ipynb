{
 "cells": [
  {
   "cell_type": "code",
   "execution_count": 3,
   "metadata": {},
   "outputs": [
    {
     "name": "stdout",
     "output_type": "stream",
     "text": [
      "10.4\n"
     ]
    }
   ],
   "source": [
    "from random import randint\n",
    "exercise_list = [1.3, 1.7, 1.14, 1.18, 2.2, 2.3, 2.7, 2.9, 2.10, 2.17, 2.19, 2.21, 2.24, 2.30, 2.33, 3.4, 3.6, 3.18, 4.4, 5.1, 5.6, 5.8, 6.5, 6.10, 7.1, 7.2, 7.3, 7.7, 7.10, 8.2, 8.3, 8.5, 8.6, 8.9, 8.12, 9.1, 9.2, 9.5, 9.6, 9.9, 10.2, 10.5, 10.6, 10.7, 10.9, 10.10, 10.12, 10.14, 10.16, 11.2, 11.3, 11.5, 11.6, 11.7, 11.8, 11.9, 11.10, 11.11, 11.13, 11.14, 11.15, 12.2, 12.3, 12.4, 12.6, 12.7, 12.9]\n",
    "i = randint(0, len(exercise_list) + 1)\n",
    "print(exercise_list[i])\n"
   ]
  }
 ],
 "metadata": {
  "kernelspec": {
   "display_name": "Python 3",
   "language": "python",
   "name": "python3"
  },
  "language_info": {
   "codemirror_mode": {
    "name": "ipython",
    "version": 3
   },
   "file_extension": ".py",
   "mimetype": "text/x-python",
   "name": "python",
   "nbconvert_exporter": "python",
   "pygments_lexer": "ipython3",
   "version": "3.11.1"
  },
  "orig_nbformat": 4
 },
 "nbformat": 4,
 "nbformat_minor": 2
}
