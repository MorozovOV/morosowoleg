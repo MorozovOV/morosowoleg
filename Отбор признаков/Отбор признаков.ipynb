{
 "cells": [
  {
   "cell_type": "markdown",
   "metadata": {},
   "source": [
    "# Загрузка данных"
   ]
  },
  {
   "cell_type": "code",
   "execution_count": 1,
   "metadata": {},
   "outputs": [],
   "source": [
    "import pandas as pd\n",
    "from sklearn.model_selection import train_test_split\n",
    "from sklearn.linear_model import LinearRegression\n",
    "import sklearn\n",
    "from sklearn import metrics"
   ]
  },
  {
   "cell_type": "code",
   "execution_count": 2,
   "metadata": {},
   "outputs": [],
   "source": [
    "%%capture\n",
    "!wget https://www.dropbox.com/s/64ol9q9ssggz6f1/data_ford_price.xlsx"
   ]
  },
  {
   "cell_type": "code",
   "execution_count": 5,
   "metadata": {},
   "outputs": [],
   "source": [
    "data_ford_price = pd.read_excel('data_ford_price.xlsx') "
   ]
  },
  {
   "cell_type": "code",
   "execution_count": 6,
   "metadata": {},
   "outputs": [
    {
     "name": "stderr",
     "output_type": "stream",
     "text": [
      "C:\\Users\\Олег\\AppData\\Local\\Temp\\ipykernel_5288\\3156779575.py:2: SettingWithCopyWarning: \n",
      "A value is trying to be set on a copy of a slice from a DataFrame\n",
      "\n",
      "See the caveats in the documentation: https://pandas.pydata.org/pandas-docs/stable/user_guide/indexing.html#returning-a-view-versus-a-copy\n",
      "  data.dropna(inplace = True)\n"
     ]
    }
   ],
   "source": [
    "data = data_ford_price[['price','year', 'cylinders', 'odometer', 'lat', 'long', 'weather']]\n",
    "data.dropna(inplace = True)"
   ]
  },
  {
   "cell_type": "markdown",
   "metadata": {},
   "source": [
    "# Отбор признаков"
   ]
  },
  {
   "cell_type": "markdown",
   "metadata": {},
   "source": [
    "## 1. Метод RFE"
   ]
  },
  {
   "cell_type": "code",
   "execution_count": 7,
   "metadata": {},
   "outputs": [],
   "source": [
    "from sklearn.feature_selection import RFE"
   ]
  },
  {
   "cell_type": "code",
   "execution_count": 8,
   "metadata": {},
   "outputs": [],
   "source": [
    "# Выделяем целевой признак\n",
    "y = data['price']\n",
    "x = data.drop(columns='price')"
   ]
  },
  {
   "cell_type": "code",
   "execution_count": 9,
   "metadata": {},
   "outputs": [],
   "source": [
    "# Делим выборки на тренировочные и тестовые\n",
    "X_train, X_test, y_train, y_test = train_test_split(x, y, test_size=0.3, random_state=40)"
   ]
  },
  {
   "cell_type": "code",
   "execution_count": 11,
   "metadata": {},
   "outputs": [
    {
     "data": {
      "text/plain": [
       "array(['year', 'cylinders', 'lat'], dtype=object)"
      ]
     },
     "execution_count": 11,
     "metadata": {},
     "output_type": "execute_result"
    }
   ],
   "source": [
    "# Выделим три наиболее значимых признака методом RFE\n",
    "estimator = LinearRegression()\n",
    "selector = RFE(estimator, n_features_to_select=3, step=1)\n",
    "selector = selector.fit(X_train, y_train)\n",
    " \n",
    "selector.get_feature_names_out()"
   ]
  },
  {
   "cell_type": "code",
   "execution_count": 12,
   "metadata": {},
   "outputs": [],
   "source": [
    "# Составим список отобранных признаков:\n",
    "columns_RFE = ['year', 'cylinders', 'lat']\n",
    "\n",
    "# Перепишем тренирвочные  и тестовые выборки:\n",
    "X_train_RFE = X_train[columns_RFE]\n",
    "X_test_RFE = X_test[columns_RFE]"
   ]
  },
  {
   "cell_type": "code",
   "execution_count": 13,
   "metadata": {},
   "outputs": [
    {
     "name": "stdout",
     "output_type": "stream",
     "text": [
      "MAE = 5096.57\n",
      "R^2 = 0.58\n"
     ]
    }
   ],
   "source": [
    "# Строим модель линейной регрессии:\n",
    "model = LinearRegression()\n",
    "# Обучаем модель:\n",
    "model.fit(X_train_RFE, y_train)\n",
    "# Делаем предсказание\n",
    "y_predicted_RFE = model.predict(X_test_RFE)\n",
    "\n",
    "# Выводим метрики\n",
    "print(f'MAE = {round(sklearn.metrics.mean_absolute_error(y_test, y_predicted_RFE), 2)}')\n",
    "print(f'R^2 = {round(sklearn.metrics.r2_score(y_test, y_predicted_RFE), 2)}')"
   ]
  },
  {
   "cell_type": "markdown",
   "metadata": {},
   "source": [
    "**Примечание**. В качестве метрик мы выбрали MAE и R^2, поскольку их легко интерпретировать. Поскольку мы предсказываем цену, то метрика MAE Покажет нам, на сколько тыс. дол. ошибается наша модель. Метрика R^2 покажет, какую долю информации уловила наша модель."
   ]
  },
  {
   "cell_type": "markdown",
   "metadata": {},
   "source": [
    "## 2. SelectKBest"
   ]
  },
  {
   "cell_type": "code",
   "execution_count": 14,
   "metadata": {},
   "outputs": [],
   "source": [
    "from sklearn.feature_selection import SelectKBest, f_regression"
   ]
  },
  {
   "cell_type": "code",
   "execution_count": 15,
   "metadata": {},
   "outputs": [
    {
     "data": {
      "text/plain": [
       "array(['year', 'cylinders', 'odometer'], dtype=object)"
      ]
     },
     "execution_count": 15,
     "metadata": {},
     "output_type": "execute_result"
    }
   ],
   "source": [
    "# Выделим три наиболее значимых признака методом SelectKBest\n",
    "selector = SelectKBest(f_regression, k=3)\n",
    "selector.fit(X_train, y_train)\n",
    " \n",
    "selector.get_feature_names_out()"
   ]
  },
  {
   "cell_type": "code",
   "execution_count": 16,
   "metadata": {},
   "outputs": [],
   "source": [
    "# Составим список отобранных признаков:\n",
    "columns_SB = ['year', 'cylinders', 'odometer']\n",
    "\n",
    "# Перепишем тренирвочные  и тестовые выборки:\n",
    "X_train_SB = X_train[columns_SB]\n",
    "X_test_SB = X_test[columns_SB]"
   ]
  },
  {
   "cell_type": "code",
   "execution_count": 17,
   "metadata": {},
   "outputs": [
    {
     "name": "stdout",
     "output_type": "stream",
     "text": [
      "MAE = 4708.95\n",
      "R^2 = 0.6\n"
     ]
    }
   ],
   "source": [
    "# Обучаем модель:\n",
    "model.fit(X_train_SB, y_train)\n",
    "# Делаем предсказание\n",
    "y_predicted_SB = model.predict(X_test_SB)\n",
    "\n",
    "# Выводим метрики\n",
    "print(f'MAE = {round(sklearn.metrics.mean_absolute_error(y_test, y_predicted_SB), 2)}')\n",
    "print(f'R^2 = {round(sklearn.metrics.r2_score(y_test, y_predicted_SB), 2)}')"
   ]
  },
  {
   "cell_type": "markdown",
   "metadata": {},
   "source": [
    "Как видно из метрик, отбор признаков методом SelectKBest показал лучший результат на тестовой выборке."
   ]
  }
 ],
 "metadata": {
  "kernelspec": {
   "display_name": "Python 3",
   "language": "python",
   "name": "python3"
  },
  "language_info": {
   "codemirror_mode": {
    "name": "ipython",
    "version": 3
   },
   "file_extension": ".py",
   "mimetype": "text/x-python",
   "name": "python",
   "nbconvert_exporter": "python",
   "pygments_lexer": "ipython3",
   "version": "3.11.1"
  },
  "orig_nbformat": 4
 },
 "nbformat": 4,
 "nbformat_minor": 2
}
