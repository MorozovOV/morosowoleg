{
  "cells": [
    {
      "attachments": {},
      "cell_type": "markdown",
      "id": "42289889-bd57-434e-9637-d3e354756316",
      "metadata": {
        "id": "42289889-bd57-434e-9637-d3e354756316"
      },
      "source": [
        "<center> <img src = https://raw.githubusercontent.com/AndreyRysistov/DatasetsForPandas/main/hh%20label.jpg alt=\"drawing\" style=\"width:400px;\">"
      ]
    },
    {
      "attachments": {},
      "cell_type": "markdown",
      "id": "829cb75b-f14e-4ba8-9195-7ba929a7d656",
      "metadata": {
        "id": "829cb75b-f14e-4ba8-9195-7ba929a7d656",
        "tags": []
      },
      "source": [
        "# <center> Проект: Анализ вакансий из HeadHunter\n",
        "   "
      ]
    },
    {
      "cell_type": "code",
      "execution_count": 1,
      "id": "dccfde33-2452-43fb-a8a5-5c6ebc02a71d",
      "metadata": {
        "id": "dccfde33-2452-43fb-a8a5-5c6ebc02a71d"
      },
      "outputs": [],
      "source": [
        "import pandas as pd\n",
        "import psycopg2\n",
        "import warnings # Импорт модуля warnings необходим, чтобы игнорировалось предупреждение о необходимости использовать SQLAlchemy\n",
        "warnings.filterwarnings('ignore')"
      ]
    },
    {
      "cell_type": "code",
      "execution_count": 2,
      "id": "oVKH4ehvf8Ay",
      "metadata": {
        "id": "oVKH4ehvf8Ay"
      },
      "outputs": [],
      "source": [
        "# Параметры подключения:\n",
        "DBNAME = 'xxx'\n",
        "USER = 'xxx'\n",
        "PASSWORD = 'xxx'\n",
        "HOST = 'xxx'\n",
        "PORT = xxx"
      ]
    },
    {
      "cell_type": "code",
      "execution_count": 3,
      "id": "G4X_q8KBf7SF",
      "metadata": {
        "id": "G4X_q8KBf7SF"
      },
      "outputs": [],
      "source": [
        "connection = psycopg2.connect(\n",
        "    dbname=DBNAME,\n",
        "    user=USER,\n",
        "    host=HOST,\n",
        "    password=PASSWORD,\n",
        "    port=PORT\n",
        ")"
      ]
    },
    {
      "attachments": {},
      "cell_type": "markdown",
      "id": "0dc6476b-7a00-44f1-ac93-6e3baed33a29",
      "metadata": {
        "id": "0dc6476b-7a00-44f1-ac93-6e3baed33a29"
      },
      "source": [
        "# Юнит 3. Предварительный анализ данных"
      ]
    },
    {
      "attachments": {},
      "cell_type": "markdown",
      "id": "889782b6-8d1c-410e-8920-e57f27917c64",
      "metadata": {
        "id": "889782b6-8d1c-410e-8920-e57f27917c64"
      },
      "source": [
        "1. Напишите запрос, который посчитает количество вакансий в нашей базе (вакансии находятся в таблице vacancies). "
      ]
    },
    {
      "cell_type": "code",
      "execution_count": 4,
      "id": "bc39e68e-ed02-4ee2-9235-7258a2f867a8",
      "metadata": {
        "id": "bc39e68e-ed02-4ee2-9235-7258a2f867a8"
      },
      "outputs": [],
      "source": [
        "# текст запроса\n",
        "# Считаем столбцы id в таблице vacancies\n",
        "query_3_1 = f'''select\n",
        "                    count(id) /*Считаем количество записей в столбце id*/\n",
        "                from public.vacancies /*Из таблицы vacancies*/\n",
        "            '''"
      ]
    },
    {
      "cell_type": "code",
      "execution_count": 5,
      "id": "7mAwtsk4hEHY",
      "metadata": {
        "id": "7mAwtsk4hEHY"
      },
      "outputs": [
        {
          "data": {
            "text/html": [
              "<div>\n",
              "<style scoped>\n",
              "    .dataframe tbody tr th:only-of-type {\n",
              "        vertical-align: middle;\n",
              "    }\n",
              "\n",
              "    .dataframe tbody tr th {\n",
              "        vertical-align: top;\n",
              "    }\n",
              "\n",
              "    .dataframe thead th {\n",
              "        text-align: right;\n",
              "    }\n",
              "</style>\n",
              "<table border=\"1\" class=\"dataframe\">\n",
              "  <thead>\n",
              "    <tr style=\"text-align: right;\">\n",
              "      <th></th>\n",
              "      <th>count</th>\n",
              "    </tr>\n",
              "  </thead>\n",
              "  <tbody>\n",
              "    <tr>\n",
              "      <th>0</th>\n",
              "      <td>49197</td>\n",
              "    </tr>\n",
              "  </tbody>\n",
              "</table>\n",
              "</div>"
            ],
            "text/plain": [
              "   count\n",
              "0  49197"
            ]
          },
          "execution_count": 5,
          "metadata": {},
          "output_type": "execute_result"
        }
      ],
      "source": [
        "# результат запроса\n",
        "vacancies_number = pd.read_sql_query(query_3_1, connection)\n",
        "vacancies_number"
      ]
    },
    {
      "attachments": {},
      "cell_type": "markdown",
      "id": "b583485d-1f9e-494e-ada4-80ffff7c53d6",
      "metadata": {
        "id": "b583485d-1f9e-494e-ada4-80ffff7c53d6"
      },
      "source": [
        "2. Напишите запрос, который посчитает количество работодателей (таблица employers). "
      ]
    },
    {
      "cell_type": "code",
      "execution_count": 6,
      "id": "5408c52c-3407-4a63-b25b-1aafa2322d28",
      "metadata": {
        "id": "5408c52c-3407-4a63-b25b-1aafa2322d28"
      },
      "outputs": [],
      "source": [
        "# текст запроса\n",
        "# Считаем столбцы id в таблице employers\n",
        "query_3_2 = f'''select\n",
        "                    count(id) /*Считаем количество записей в столбце id*/\n",
        "                from public.employers /*Из таблицы employers*/\n",
        "            '''"
      ]
    },
    {
      "cell_type": "code",
      "execution_count": 7,
      "id": "jVL4eshKhdqc",
      "metadata": {
        "id": "jVL4eshKhdqc"
      },
      "outputs": [
        {
          "data": {
            "text/html": [
              "<div>\n",
              "<style scoped>\n",
              "    .dataframe tbody tr th:only-of-type {\n",
              "        vertical-align: middle;\n",
              "    }\n",
              "\n",
              "    .dataframe tbody tr th {\n",
              "        vertical-align: top;\n",
              "    }\n",
              "\n",
              "    .dataframe thead th {\n",
              "        text-align: right;\n",
              "    }\n",
              "</style>\n",
              "<table border=\"1\" class=\"dataframe\">\n",
              "  <thead>\n",
              "    <tr style=\"text-align: right;\">\n",
              "      <th></th>\n",
              "      <th>count</th>\n",
              "    </tr>\n",
              "  </thead>\n",
              "  <tbody>\n",
              "    <tr>\n",
              "      <th>0</th>\n",
              "      <td>23501</td>\n",
              "    </tr>\n",
              "  </tbody>\n",
              "</table>\n",
              "</div>"
            ],
            "text/plain": [
              "   count\n",
              "0  23501"
            ]
          },
          "execution_count": 7,
          "metadata": {},
          "output_type": "execute_result"
        }
      ],
      "source": [
        "# результат запроса\n",
        "employers_number = pd.read_sql_query(query_3_2, connection)\n",
        "employers_number"
      ]
    },
    {
      "attachments": {},
      "cell_type": "markdown",
      "id": "a2bfff1f-c975-4bf6-84be-2185d79dcb76",
      "metadata": {
        "id": "a2bfff1f-c975-4bf6-84be-2185d79dcb76"
      },
      "source": [
        "3. Посчитате с помощью запроса количество регионов (таблица areas)."
      ]
    },
    {
      "cell_type": "code",
      "execution_count": 8,
      "id": "1m8QJwBYhey6",
      "metadata": {
        "id": "1m8QJwBYhey6"
      },
      "outputs": [],
      "source": [
        "# текст запроса\n",
        "# Считаем столбцы id в таблице areas\n",
        "query_3_3 = f'''select\n",
        "                    count(id) /*Считаем количество записей в столбце id*/\n",
        "                from public.areas /*Из таблицы areas*/\n",
        "            '''"
      ]
    },
    {
      "cell_type": "code",
      "execution_count": 9,
      "id": "EZsn9tlfhe7f",
      "metadata": {
        "id": "EZsn9tlfhe7f"
      },
      "outputs": [
        {
          "data": {
            "text/html": [
              "<div>\n",
              "<style scoped>\n",
              "    .dataframe tbody tr th:only-of-type {\n",
              "        vertical-align: middle;\n",
              "    }\n",
              "\n",
              "    .dataframe tbody tr th {\n",
              "        vertical-align: top;\n",
              "    }\n",
              "\n",
              "    .dataframe thead th {\n",
              "        text-align: right;\n",
              "    }\n",
              "</style>\n",
              "<table border=\"1\" class=\"dataframe\">\n",
              "  <thead>\n",
              "    <tr style=\"text-align: right;\">\n",
              "      <th></th>\n",
              "      <th>count</th>\n",
              "    </tr>\n",
              "  </thead>\n",
              "  <tbody>\n",
              "    <tr>\n",
              "      <th>0</th>\n",
              "      <td>1362</td>\n",
              "    </tr>\n",
              "  </tbody>\n",
              "</table>\n",
              "</div>"
            ],
            "text/plain": [
              "   count\n",
              "0   1362"
            ]
          },
          "execution_count": 9,
          "metadata": {},
          "output_type": "execute_result"
        }
      ],
      "source": [
        "# результат запроса\n",
        "areas_number = pd.read_sql_query(query_3_3, connection)\n",
        "areas_number"
      ]
    },
    {
      "attachments": {},
      "cell_type": "markdown",
      "id": "41bb59f3-53cc-4a67-a5bc-bedf573955e4",
      "metadata": {
        "id": "41bb59f3-53cc-4a67-a5bc-bedf573955e4"
      },
      "source": [
        "4. Посчитате с помощью запроса количество сфер деятельности в базе (таблица industries)."
      ]
    },
    {
      "cell_type": "code",
      "execution_count": 10,
      "id": "d286cf4c-707b-4cd2-9190-7ab3587d04a1",
      "metadata": {
        "id": "d286cf4c-707b-4cd2-9190-7ab3587d04a1"
      },
      "outputs": [],
      "source": [
        "# текст запроса\n",
        "# Считаем столбцы id в таблице industries\n",
        "query_3_4 = f'''select\n",
        "                    count(id) /*Считаем количество записей в столбце id*/\n",
        "                from public.industries /*Из таблицы industries*/\n",
        "            '''"
      ]
    },
    {
      "cell_type": "code",
      "execution_count": 11,
      "id": "JYAaoZ4qhfzW",
      "metadata": {
        "id": "JYAaoZ4qhfzW"
      },
      "outputs": [
        {
          "data": {
            "text/html": [
              "<div>\n",
              "<style scoped>\n",
              "    .dataframe tbody tr th:only-of-type {\n",
              "        vertical-align: middle;\n",
              "    }\n",
              "\n",
              "    .dataframe tbody tr th {\n",
              "        vertical-align: top;\n",
              "    }\n",
              "\n",
              "    .dataframe thead th {\n",
              "        text-align: right;\n",
              "    }\n",
              "</style>\n",
              "<table border=\"1\" class=\"dataframe\">\n",
              "  <thead>\n",
              "    <tr style=\"text-align: right;\">\n",
              "      <th></th>\n",
              "      <th>count</th>\n",
              "    </tr>\n",
              "  </thead>\n",
              "  <tbody>\n",
              "    <tr>\n",
              "      <th>0</th>\n",
              "      <td>294</td>\n",
              "    </tr>\n",
              "  </tbody>\n",
              "</table>\n",
              "</div>"
            ],
            "text/plain": [
              "   count\n",
              "0    294"
            ]
          },
          "execution_count": 11,
          "metadata": {},
          "output_type": "execute_result"
        }
      ],
      "source": [
        "# результат запроса\n",
        "industries_number = pd.read_sql_query(query_3_4, connection)\n",
        "industries_number"
      ]
    },
    {
      "attachments": {},
      "cell_type": "markdown",
      "id": "9a8a2181-6914-448b-85f1-38f5f18b8a93",
      "metadata": {
        "id": "9a8a2181-6914-448b-85f1-38f5f18b8a93"
      },
      "source": [
        "***"
      ]
    },
    {
      "attachments": {},
      "cell_type": "markdown",
      "id": "a9f7febf",
      "metadata": {},
      "source": [
        "Предварительный анализ данных, содержащихся в базе, показывает, что в ней представлены 49197 вакансий от 23501 работодателя из 1362 регионов, охватывающих 294 сферы деятельности. То есть в среднем чуть более двух вакансий от работодателя. На каждый регион приходится в среднем более 17 работодателей и более 36 вакансий. Каждая сфера представлена в среднам чуть менее 80 работодателями и предоставляет в среднем чуть более 167 вакансий.\n",
        "\n",
        "Естественно, что преиведённые выше числа весьма грубы, потому что каждый регион обладает различными ресурсами в плане предложения рабочих мест, равно как и не все сферы деятельности одинаково востребованы на рынке труда.\n",
        "\n",
        "Поэтому необходим более глубокий анализ данных."
      ]
    },
    {
      "attachments": {},
      "cell_type": "markdown",
      "id": "8d62a9f3-f64e-4fe7-bdac-c4dffa16155e",
      "metadata": {
        "id": "8d62a9f3-f64e-4fe7-bdac-c4dffa16155e"
      },
      "source": [
        "# Юнит 4. Детальный анализ вакансий"
      ]
    },
    {
      "attachments": {},
      "cell_type": "markdown",
      "id": "93053d3d-b284-481a-9cf7-012d7014c0e0",
      "metadata": {
        "id": "93053d3d-b284-481a-9cf7-012d7014c0e0"
      },
      "source": [
        "1. Напишите запрос, который позволит узнать, сколько (cnt) вакансий в каждом регионе (area).\n",
        "Отсортируйте по количеству вакансий в порядке убывания."
      ]
    },
    {
      "cell_type": "code",
      "execution_count": 12,
      "id": "3f069da6-fdc9-4ae7-b514-fafe2675efd3",
      "metadata": {
        "id": "3f069da6-fdc9-4ae7-b514-fafe2675efd3"
      },
      "outputs": [],
      "source": [
        "# текст запроса\n",
        "query_4_1 = f'''SELECT \n",
        "                    COUNT(v.id) cnt, /*Считаем количество записей в столбце id таблицы v, присваиваем солбцу название cnt*/\n",
        "                    a.name area /*Выбираем столбец name таблицы a, присваиваем солбцу название area*/\n",
        "                FROM public.vacancies v /*Таблица vacancies с алиасом v*/\n",
        "                JOIN public.areas a ON v.area_id = a.id /*Присоединяемая таблица areas с алиасом a; присоединение по столбцам area_id таблицы v и id таблицы а*/\n",
        "                GROUP BY a.name /*Группировка по столбцу name таблицы а*/\n",
        "                ORDER BY COUNT(v.id) DESC /*Сортировка по подсчёту id таблицы v; сортировка по убыванию*/\n",
        "                LIMIT 5 /*Выводим первые пять строк*/\n",
        "            '''"
      ]
    },
    {
      "cell_type": "code",
      "execution_count": 13,
      "id": "P7QL86hrjhRJ",
      "metadata": {
        "id": "P7QL86hrjhRJ"
      },
      "outputs": [
        {
          "data": {
            "text/html": [
              "<div>\n",
              "<style scoped>\n",
              "    .dataframe tbody tr th:only-of-type {\n",
              "        vertical-align: middle;\n",
              "    }\n",
              "\n",
              "    .dataframe tbody tr th {\n",
              "        vertical-align: top;\n",
              "    }\n",
              "\n",
              "    .dataframe thead th {\n",
              "        text-align: right;\n",
              "    }\n",
              "</style>\n",
              "<table border=\"1\" class=\"dataframe\">\n",
              "  <thead>\n",
              "    <tr style=\"text-align: right;\">\n",
              "      <th></th>\n",
              "      <th>cnt</th>\n",
              "      <th>area</th>\n",
              "    </tr>\n",
              "  </thead>\n",
              "  <tbody>\n",
              "    <tr>\n",
              "      <th>0</th>\n",
              "      <td>5333</td>\n",
              "      <td>Москва</td>\n",
              "    </tr>\n",
              "    <tr>\n",
              "      <th>1</th>\n",
              "      <td>2851</td>\n",
              "      <td>Санкт-Петербург</td>\n",
              "    </tr>\n",
              "    <tr>\n",
              "      <th>2</th>\n",
              "      <td>2112</td>\n",
              "      <td>Минск</td>\n",
              "    </tr>\n",
              "    <tr>\n",
              "      <th>3</th>\n",
              "      <td>2006</td>\n",
              "      <td>Новосибирск</td>\n",
              "    </tr>\n",
              "    <tr>\n",
              "      <th>4</th>\n",
              "      <td>1892</td>\n",
              "      <td>Алматы</td>\n",
              "    </tr>\n",
              "  </tbody>\n",
              "</table>\n",
              "</div>"
            ],
            "text/plain": [
              "    cnt             area\n",
              "0  5333           Москва\n",
              "1  2851  Санкт-Петербург\n",
              "2  2112            Минск\n",
              "3  2006      Новосибирск\n",
              "4  1892           Алматы"
            ]
          },
          "execution_count": 13,
          "metadata": {},
          "output_type": "execute_result"
        }
      ],
      "source": [
        "# результат запроса\n",
        "vacancies_per_region = pd.read_sql_query(query_4_1, connection)\n",
        "vacancies_per_region"
      ]
    },
    {
      "attachments": {},
      "cell_type": "markdown",
      "id": "4266f0b6-1646-492a-88b4-2f6a46502135",
      "metadata": {
        "id": "4266f0b6-1646-492a-88b4-2f6a46502135"
      },
      "source": [
        "2. Напишите запрос, чтобы определить у какого количества вакансий заполнено хотя бы одно из двух полей с зарплатой."
      ]
    },
    {
      "cell_type": "code",
      "execution_count": 14,
      "id": "0c44b350-72eb-4d65-8b54-a1fc449ba9fd",
      "metadata": {
        "id": "0c44b350-72eb-4d65-8b54-a1fc449ba9fd"
      },
      "outputs": [],
      "source": [
        "# текст запроса\n",
        "query_4_2 = f'''SELECT\n",
        "                    COUNT(id) /*Считаем количество записей в столбце id...*/\n",
        "                FROM public.vacancies /*... таблицы vacancies*/\n",
        "                WHERE (salary_from is not null) or (salary_to is not null) /*где значения столбца salary_from или salary_to ненулевые*/\n",
        "            '''"
      ]
    },
    {
      "cell_type": "code",
      "execution_count": 15,
      "id": "rhvwaMDkoWTi",
      "metadata": {
        "id": "rhvwaMDkoWTi"
      },
      "outputs": [
        {
          "data": {
            "text/html": [
              "<div>\n",
              "<style scoped>\n",
              "    .dataframe tbody tr th:only-of-type {\n",
              "        vertical-align: middle;\n",
              "    }\n",
              "\n",
              "    .dataframe tbody tr th {\n",
              "        vertical-align: top;\n",
              "    }\n",
              "\n",
              "    .dataframe thead th {\n",
              "        text-align: right;\n",
              "    }\n",
              "</style>\n",
              "<table border=\"1\" class=\"dataframe\">\n",
              "  <thead>\n",
              "    <tr style=\"text-align: right;\">\n",
              "      <th></th>\n",
              "      <th>count</th>\n",
              "    </tr>\n",
              "  </thead>\n",
              "  <tbody>\n",
              "    <tr>\n",
              "      <th>0</th>\n",
              "      <td>24073</td>\n",
              "    </tr>\n",
              "  </tbody>\n",
              "</table>\n",
              "</div>"
            ],
            "text/plain": [
              "   count\n",
              "0  24073"
            ]
          },
          "execution_count": 15,
          "metadata": {},
          "output_type": "execute_result"
        }
      ],
      "source": [
        "# результат запроса\n",
        "not_empty_salary = pd.read_sql_query(query_4_2, connection)\n",
        "not_empty_salary"
      ]
    },
    {
      "attachments": {},
      "cell_type": "markdown",
      "id": "635c4d5d-f323-4c66-b428-50a088120aa0",
      "metadata": {
        "id": "635c4d5d-f323-4c66-b428-50a088120aa0"
      },
      "source": [
        "3. Найдите средние значения для нижней и верхней границы зарплатной вилки. Округлите значения до целого."
      ]
    },
    {
      "cell_type": "code",
      "execution_count": 16,
      "id": "603cdbe4-0ec3-4106-8eaf-c73fcdd29165",
      "metadata": {
        "id": "603cdbe4-0ec3-4106-8eaf-c73fcdd29165"
      },
      "outputs": [],
      "source": [
        "# текст запроса\n",
        "query_4_3 = f'''SELECT\n",
        "                    ROUND(AVG(salary_from)) low_level, /*Считаем среднее по столбцу salary_from, округляя его до целого; присваиваем название столбцу low_level*/\n",
        "                    ROUND(AVG(salary_to)) upper_level /*Считаем среднее по столбцу salary_to, округляя его до целого; присваиваем название столбцу upper_level*/\n",
        "                FROM public.vacancies /*Из таблицы vacancies*/\n",
        "                WHERE (salary_from is not null) or (salary_to is not null) /*где значения столбца salary_from или salary_to ненулевые*/\n",
        "            '''"
      ]
    },
    {
      "cell_type": "code",
      "execution_count": 17,
      "id": "pswpAb66ovZZ",
      "metadata": {
        "id": "pswpAb66ovZZ"
      },
      "outputs": [
        {
          "data": {
            "text/html": [
              "<div>\n",
              "<style scoped>\n",
              "    .dataframe tbody tr th:only-of-type {\n",
              "        vertical-align: middle;\n",
              "    }\n",
              "\n",
              "    .dataframe tbody tr th {\n",
              "        vertical-align: top;\n",
              "    }\n",
              "\n",
              "    .dataframe thead th {\n",
              "        text-align: right;\n",
              "    }\n",
              "</style>\n",
              "<table border=\"1\" class=\"dataframe\">\n",
              "  <thead>\n",
              "    <tr style=\"text-align: right;\">\n",
              "      <th></th>\n",
              "      <th>low_level</th>\n",
              "      <th>upper_level</th>\n",
              "    </tr>\n",
              "  </thead>\n",
              "  <tbody>\n",
              "    <tr>\n",
              "      <th>0</th>\n",
              "      <td>71065.0</td>\n",
              "      <td>110537.0</td>\n",
              "    </tr>\n",
              "  </tbody>\n",
              "</table>\n",
              "</div>"
            ],
            "text/plain": [
              "   low_level  upper_level\n",
              "0    71065.0     110537.0"
            ]
          },
          "execution_count": 17,
          "metadata": {},
          "output_type": "execute_result"
        }
      ],
      "source": [
        "# результат запроса\n",
        "average_salary = pd.read_sql_query(query_4_3, connection)\n",
        "average_salary"
      ]
    },
    {
      "attachments": {},
      "cell_type": "markdown",
      "id": "f3fdaec9-5fd3-4260-9cf5-1d7406b628a5",
      "metadata": {
        "id": "f3fdaec9-5fd3-4260-9cf5-1d7406b628a5"
      },
      "source": [
        "4. Напишите запрос, который выведет количество вакансий для каждого сочетания типа рабочего графика (schedule) и типа трудоустройства (employment), используемого в вакансиях. Результат отсортируйте по убыванию количества.\n"
      ]
    },
    {
      "cell_type": "code",
      "execution_count": 18,
      "id": "1ea710ec-871b-431e-9462-c7d0fd87011b",
      "metadata": {
        "id": "1ea710ec-871b-431e-9462-c7d0fd87011b"
      },
      "outputs": [],
      "source": [
        "# текст запроса\n",
        "query_4_4 = f'''SELECT\n",
        "                    COUNT(id), /*Считаем количество записей в столбце id*/\n",
        "                    schedule,\n",
        "                    employment /*Выбираем столбцы schedule и employment*/\n",
        "                FROM public.vacancies /*Из таблицы vacancies*/\n",
        "                GROUP BY schedule, employment /*Группируем по столбцам schedule и employment*/\n",
        "                ORDER BY COUNT(id) DESC /*Сортируем по убыванию по столбцу с подсчётом id*/\n",
        "            '''"
      ]
    },
    {
      "cell_type": "code",
      "execution_count": 19,
      "id": "lGUVqavdo4JQ",
      "metadata": {
        "id": "lGUVqavdo4JQ"
      },
      "outputs": [
        {
          "data": {
            "text/html": [
              "<div>\n",
              "<style scoped>\n",
              "    .dataframe tbody tr th:only-of-type {\n",
              "        vertical-align: middle;\n",
              "    }\n",
              "\n",
              "    .dataframe tbody tr th {\n",
              "        vertical-align: top;\n",
              "    }\n",
              "\n",
              "    .dataframe thead th {\n",
              "        text-align: right;\n",
              "    }\n",
              "</style>\n",
              "<table border=\"1\" class=\"dataframe\">\n",
              "  <thead>\n",
              "    <tr style=\"text-align: right;\">\n",
              "      <th></th>\n",
              "      <th>count</th>\n",
              "      <th>schedule</th>\n",
              "      <th>employment</th>\n",
              "    </tr>\n",
              "  </thead>\n",
              "  <tbody>\n",
              "    <tr>\n",
              "      <th>0</th>\n",
              "      <td>35367</td>\n",
              "      <td>Полный день</td>\n",
              "      <td>Полная занятость</td>\n",
              "    </tr>\n",
              "    <tr>\n",
              "      <th>1</th>\n",
              "      <td>7802</td>\n",
              "      <td>Удаленная работа</td>\n",
              "      <td>Полная занятость</td>\n",
              "    </tr>\n",
              "    <tr>\n",
              "      <th>2</th>\n",
              "      <td>1593</td>\n",
              "      <td>Гибкий график</td>\n",
              "      <td>Полная занятость</td>\n",
              "    </tr>\n",
              "    <tr>\n",
              "      <th>3</th>\n",
              "      <td>1312</td>\n",
              "      <td>Удаленная работа</td>\n",
              "      <td>Частичная занятость</td>\n",
              "    </tr>\n",
              "    <tr>\n",
              "      <th>4</th>\n",
              "      <td>940</td>\n",
              "      <td>Сменный график</td>\n",
              "      <td>Полная занятость</td>\n",
              "    </tr>\n",
              "    <tr>\n",
              "      <th>5</th>\n",
              "      <td>569</td>\n",
              "      <td>Полный день</td>\n",
              "      <td>Стажировка</td>\n",
              "    </tr>\n",
              "    <tr>\n",
              "      <th>6</th>\n",
              "      <td>367</td>\n",
              "      <td>Вахтовый метод</td>\n",
              "      <td>Полная занятость</td>\n",
              "    </tr>\n",
              "    <tr>\n",
              "      <th>7</th>\n",
              "      <td>347</td>\n",
              "      <td>Полный день</td>\n",
              "      <td>Частичная занятость</td>\n",
              "    </tr>\n",
              "    <tr>\n",
              "      <th>8</th>\n",
              "      <td>312</td>\n",
              "      <td>Гибкий график</td>\n",
              "      <td>Частичная занятость</td>\n",
              "    </tr>\n",
              "    <tr>\n",
              "      <th>9</th>\n",
              "      <td>141</td>\n",
              "      <td>Полный день</td>\n",
              "      <td>Проектная работа</td>\n",
              "    </tr>\n",
              "    <tr>\n",
              "      <th>10</th>\n",
              "      <td>133</td>\n",
              "      <td>Удаленная работа</td>\n",
              "      <td>Проектная работа</td>\n",
              "    </tr>\n",
              "    <tr>\n",
              "      <th>11</th>\n",
              "      <td>116</td>\n",
              "      <td>Гибкий график</td>\n",
              "      <td>Стажировка</td>\n",
              "    </tr>\n",
              "    <tr>\n",
              "      <th>12</th>\n",
              "      <td>101</td>\n",
              "      <td>Сменный график</td>\n",
              "      <td>Частичная занятость</td>\n",
              "    </tr>\n",
              "    <tr>\n",
              "      <th>13</th>\n",
              "      <td>64</td>\n",
              "      <td>Удаленная работа</td>\n",
              "      <td>Стажировка</td>\n",
              "    </tr>\n",
              "    <tr>\n",
              "      <th>14</th>\n",
              "      <td>18</td>\n",
              "      <td>Гибкий график</td>\n",
              "      <td>Проектная работа</td>\n",
              "    </tr>\n",
              "    <tr>\n",
              "      <th>15</th>\n",
              "      <td>12</td>\n",
              "      <td>Сменный график</td>\n",
              "      <td>Стажировка</td>\n",
              "    </tr>\n",
              "    <tr>\n",
              "      <th>16</th>\n",
              "      <td>2</td>\n",
              "      <td>Вахтовый метод</td>\n",
              "      <td>Проектная работа</td>\n",
              "    </tr>\n",
              "    <tr>\n",
              "      <th>17</th>\n",
              "      <td>1</td>\n",
              "      <td>Сменный график</td>\n",
              "      <td>Проектная работа</td>\n",
              "    </tr>\n",
              "  </tbody>\n",
              "</table>\n",
              "</div>"
            ],
            "text/plain": [
              "    count          schedule           employment\n",
              "0   35367       Полный день     Полная занятость\n",
              "1    7802  Удаленная работа     Полная занятость\n",
              "2    1593     Гибкий график     Полная занятость\n",
              "3    1312  Удаленная работа  Частичная занятость\n",
              "4     940    Сменный график     Полная занятость\n",
              "5     569       Полный день           Стажировка\n",
              "6     367    Вахтовый метод     Полная занятость\n",
              "7     347       Полный день  Частичная занятость\n",
              "8     312     Гибкий график  Частичная занятость\n",
              "9     141       Полный день     Проектная работа\n",
              "10    133  Удаленная работа     Проектная работа\n",
              "11    116     Гибкий график           Стажировка\n",
              "12    101    Сменный график  Частичная занятость\n",
              "13     64  Удаленная работа           Стажировка\n",
              "14     18     Гибкий график     Проектная работа\n",
              "15     12    Сменный график           Стажировка\n",
              "16      2    Вахтовый метод     Проектная работа\n",
              "17      1    Сменный график     Проектная работа"
            ]
          },
          "execution_count": 19,
          "metadata": {},
          "output_type": "execute_result"
        }
      ],
      "source": [
        "# результат запроса\n",
        "vac_scheldue_employment = pd.read_sql_query(query_4_4, connection)\n",
        "vac_scheldue_employment"
      ]
    },
    {
      "attachments": {},
      "cell_type": "markdown",
      "id": "0136ffee-0ead-4a6b-b608-61d1c753a438",
      "metadata": {
        "id": "0136ffee-0ead-4a6b-b608-61d1c753a438"
      },
      "source": [
        "5. Напишите запрос, выводящий значения поля Требуемый опыт работы (experience) в порядке возрастания количества вакансий, в которых указан данный вариант опыта. "
      ]
    },
    {
      "cell_type": "code",
      "execution_count": 20,
      "id": "5b3a8e79-f7ab-4008-b767-12aea3a205ea",
      "metadata": {
        "id": "5b3a8e79-f7ab-4008-b767-12aea3a205ea"
      },
      "outputs": [],
      "source": [
        "# текст запроса\n",
        "query_4_5 = f'''SELECT\n",
        "                    experience /*Выбираем столбец experience*/\n",
        "                FROM public.vacancies /*Из таблицы vacancies*/\n",
        "                GROUP BY experience /*Группируем по столбцу experience*/\n",
        "                ORDER BY COUNT(id) /*Сортируем по подсчёту записей в столбце id*/\n",
        "            '''"
      ]
    },
    {
      "cell_type": "code",
      "execution_count": 21,
      "id": "3Is64Y-hpDpq",
      "metadata": {
        "id": "3Is64Y-hpDpq"
      },
      "outputs": [
        {
          "data": {
            "text/html": [
              "<div>\n",
              "<style scoped>\n",
              "    .dataframe tbody tr th:only-of-type {\n",
              "        vertical-align: middle;\n",
              "    }\n",
              "\n",
              "    .dataframe tbody tr th {\n",
              "        vertical-align: top;\n",
              "    }\n",
              "\n",
              "    .dataframe thead th {\n",
              "        text-align: right;\n",
              "    }\n",
              "</style>\n",
              "<table border=\"1\" class=\"dataframe\">\n",
              "  <thead>\n",
              "    <tr style=\"text-align: right;\">\n",
              "      <th></th>\n",
              "      <th>experience</th>\n",
              "    </tr>\n",
              "  </thead>\n",
              "  <tbody>\n",
              "    <tr>\n",
              "      <th>0</th>\n",
              "      <td>Более 6 лет</td>\n",
              "    </tr>\n",
              "    <tr>\n",
              "      <th>1</th>\n",
              "      <td>Нет опыта</td>\n",
              "    </tr>\n",
              "    <tr>\n",
              "      <th>2</th>\n",
              "      <td>От 3 до 6 лет</td>\n",
              "    </tr>\n",
              "    <tr>\n",
              "      <th>3</th>\n",
              "      <td>От 1 года до 3 лет</td>\n",
              "    </tr>\n",
              "  </tbody>\n",
              "</table>\n",
              "</div>"
            ],
            "text/plain": [
              "           experience\n",
              "0         Более 6 лет\n",
              "1           Нет опыта\n",
              "2       От 3 до 6 лет\n",
              "3  От 1 года до 3 лет"
            ]
          },
          "execution_count": 21,
          "metadata": {},
          "output_type": "execute_result"
        }
      ],
      "source": [
        "# результат запроса\n",
        "experience_for_vacancies = pd.read_sql_query(query_4_5, connection)\n",
        "experience_for_vacancies"
      ]
    },
    {
      "attachments": {},
      "cell_type": "markdown",
      "id": "oq2b7n1QpIka",
      "metadata": {
        "id": "oq2b7n1QpIka"
      },
      "source": [
        "***"
      ]
    },
    {
      "attachments": {},
      "cell_type": "markdown",
      "id": "d4d3f671",
      "metadata": {},
      "source": [
        "На основании детального анализа вакансий можно сделать следующие выводы:\n",
        "\n",
        "1. Как и следовало ожидать, лидерами по количеству вакансий являются столицы (Москва, Минск, отчасти сюда же можно отнасти и С.-Петербург) и города-миллионники (Новосибирск и Алматы, тоже бывшая столица).\n",
        "\n",
        "2. Из 49197 вакансий хотя бы одно поле с зарплатой заполнено всего лишь у 24073, т.е. меньше, чем у половины. Причин тому может несколько:\n",
        " \n",
        "   а) работодатель сам не определился с зуровнем заработной платы, которую готов предложить кандидату;\n",
        "\n",
        "   б) уровень зароботной платы зависит от уровня кандидата, а сам этот уровень будет выявляться на техническом собеседовании;\n",
        "\n",
        "   в) причина может быть чисто психологической: работодатель может скрывать зарплату от соискателей не от самих соискателей, а от уже работающих в данной компании, чтобы не унинзить их в случае если они работают за меньшие деньги.\n",
        "\n",
        "3. Средняя минимальная зарплата - 71 тыс. руб. Средняя максимальная - 110,5 тыс. руб. Эти цифры вполне соответствуют рынку и коррелируются с показателями, которые будут озвучены в п.5: для кандидатов с опытом работы от 1 года до 3 лет такое предложение вполне соответствует современным требованиям рынка, тем более что окончательная заработная плата, естественно, устанавливается, как правило, после соответствующих переговоров между работодателем и кандидатом.\n",
        "\n",
        "4. В общей сложности 46069 вакансий (93,6% от общей численности) подразумевают полную занятость. Из них 35367 вакансий (71,9% от общей численности) предполагают ещё и полный рабочий день. Данные цифры говорят о серьёзности намерений работодателей, их желании нанять работников на постоянную работу, что предполагает высокие требования к кандидатам.\n",
        "\n",
        "5. А вот требуемый опыт работы говорит, скорее, о дефиците рабочих кадров, поскольку наиболее часто встречающееся требование - от 1 года до 3 лет - указывает на то, что кампании готовы нанимать работников с минимальным опытом работы. С другой стороны, готовность нанять работника с минимальным опытом может говорить и о желании компании вкладываться в его переобучение под нужды самой кампании, поскольку прежние навыки работника могут быть нерелевантны для его нового работодателя.\n",
        "\n"
      ]
    },
    {
      "attachments": {},
      "cell_type": "markdown",
      "id": "7ea20ab6-04a7-40a0-adec-443a0e5a42c3",
      "metadata": {
        "id": "7ea20ab6-04a7-40a0-adec-443a0e5a42c3"
      },
      "source": [
        "# Юнит 5. Анализ работодателей"
      ]
    },
    {
      "attachments": {},
      "cell_type": "markdown",
      "id": "968aed80-74ef-4ffb-b5bf-c65b84e9caea",
      "metadata": {
        "id": "968aed80-74ef-4ffb-b5bf-c65b84e9caea"
      },
      "source": [
        "1. Напишите запрос, который позволит узнать, какие работодатели находятся на первом и пятом месте по количеству вакансий."
      ]
    },
    {
      "cell_type": "code",
      "execution_count": 22,
      "id": "f2d62796-d400-4ec1-a675-88112739a50e",
      "metadata": {
        "id": "f2d62796-d400-4ec1-a675-88112739a50e"
      },
      "outputs": [],
      "source": [
        "# текст запроса\n",
        "query_5_1 = f'''(SELECT \n",
        "                    e.name, /*Выбираем столбец name таблицы е*/\n",
        "                    COUNT(v.id) /*Считаем количество записей в столбце id таблицы v*/\n",
        "                FROM public.vacancies v /*Из таблицы vacancies с алиасом v*/\n",
        "                JOIN public.employers e ON v.employer_id = e.id /*присоединяем таблицу employers с алиасом е; соединение по столбцам employer_id таблицы v и id таблицы е*/\n",
        "                GROUP BY e.name /*Группируем по столбцу name таблицы е*/\n",
        "                ORDER BY COUNT(v.id) DESC /*Сортируем по убыванию по столбцу с подсчётом записей в столбце id таблицы v*/\n",
        "                LIMIT 1) /*Выводим первую строчку*/\n",
        "                \n",
        "                UNION /*Оператор объединения запросов*/\n",
        "                \n",
        "                (SELECT /*Запрос, аналогичный первому*/\n",
        "                    e.name,\n",
        "                    COUNT(v.id)\n",
        "                FROM public.vacancies v\n",
        "                JOIN public.employers e ON v.employer_id = e.id\n",
        "                GROUP BY e.name\n",
        "                ORDER BY COUNT(v.id) DESC\n",
        "                OFFSET 4 LIMIT 1) /*Пропускаем первые 4 записи и выводим первую из оставшихся*/\n",
        "\n",
        "                ORDER BY 2 DESC /*Всю итоговую таблицу сортируем по убыванию по второму столбцу*/\n",
        "            '''"
      ]
    },
    {
      "cell_type": "code",
      "execution_count": 23,
      "id": "64tOMkAxqkQk",
      "metadata": {
        "id": "64tOMkAxqkQk"
      },
      "outputs": [
        {
          "data": {
            "text/html": [
              "<div>\n",
              "<style scoped>\n",
              "    .dataframe tbody tr th:only-of-type {\n",
              "        vertical-align: middle;\n",
              "    }\n",
              "\n",
              "    .dataframe tbody tr th {\n",
              "        vertical-align: top;\n",
              "    }\n",
              "\n",
              "    .dataframe thead th {\n",
              "        text-align: right;\n",
              "    }\n",
              "</style>\n",
              "<table border=\"1\" class=\"dataframe\">\n",
              "  <thead>\n",
              "    <tr style=\"text-align: right;\">\n",
              "      <th></th>\n",
              "      <th>name</th>\n",
              "      <th>count</th>\n",
              "    </tr>\n",
              "  </thead>\n",
              "  <tbody>\n",
              "    <tr>\n",
              "      <th>0</th>\n",
              "      <td>Яндекс</td>\n",
              "      <td>1933</td>\n",
              "    </tr>\n",
              "    <tr>\n",
              "      <th>1</th>\n",
              "      <td>Газпром нефть</td>\n",
              "      <td>331</td>\n",
              "    </tr>\n",
              "  </tbody>\n",
              "</table>\n",
              "</div>"
            ],
            "text/plain": [
              "            name  count\n",
              "0         Яндекс   1933\n",
              "1  Газпром нефть    331"
            ]
          },
          "execution_count": 23,
          "metadata": {},
          "output_type": "execute_result"
        }
      ],
      "source": [
        "# результат запроса\n",
        "first_and_fifth_employers = pd.read_sql_query(query_5_1, connection)\n",
        "first_and_fifth_employers"
      ]
    },
    {
      "attachments": {},
      "cell_type": "markdown",
      "id": "68377cfc-b378-43dc-ab7d-1195abf2c515",
      "metadata": {
        "id": "68377cfc-b378-43dc-ab7d-1195abf2c515"
      },
      "source": [
        "2. Напишите запрос, который для каждого региона выведет количество работодателей и вакансий в нём.\n",
        "Среди регионов, в которых нет вакансий, найдите тот, в котором наибольшее количество работодателей.\n"
      ]
    },
    {
      "cell_type": "code",
      "execution_count": 24,
      "id": "dd7df27a-e3e8-412e-a21a-5d389b71e891",
      "metadata": {
        "id": "dd7df27a-e3e8-412e-a21a-5d389b71e891"
      },
      "outputs": [],
      "source": [
        "# текст запроса\n",
        "query_5_2 = f'''(SELECT \n",
        "                    a.name, /*Выбираем столбец name таблицы а*/\n",
        "                    COUNT(DISTINCT e.id) employers, /*Считаем количество уникальных записей в столбце id таблицы е; присваиваем столбцу название employers*/\n",
        "                    v.id vacancies /*Выбираем столбец id таблицы v; присваиваем столбцу название vacancies*/\n",
        "                FROM public.areas a /*Из таблицы areas с алиасом a*/\n",
        "                LEFT JOIN public.vacancies v ON a.id = v.area_id /*присоединяем методом LEFT JOIN таблицу vacancies с алиасом v; соединение по столбцам id таблицы а и area_id таблицы v*/\n",
        "                LEFT JOIN public.employers e ON a.id = e.area /*присоединяем методом LEFT JOIN таблицу employers с алиасом е; соединение по столбцам id таблицы а и area таблицы е*/\n",
        "                GROUP BY a.name, v.id /*Группируем по столбцам name таблицы а и id таблицы v*/\n",
        "                HAVING v.id IS NULL /*При условии, что значения в столбце v.id ненулевые*/\n",
        "                ORDER BY 2 DESC /*Сортируем по убыванию по столбцу 2*/\n",
        "                LIMIT 1) /*Выводим первую строчку*/\n",
        "\n",
        "                UNION ALL /*Оператор объединения запросов*/\n",
        "\n",
        "                (SELECT \n",
        "                    a.name, /*Выбираем столбец name таблицы а*/\n",
        "                    COUNT(DISTINCT v.employer_id) employers, /*Считаем количество уникальных записей в столбце employer_id таблицы v; заносим значения в столбец employers*/\n",
        "                    COUNT(v.id) vacancies /*Считаем количество записей в столбце id таблицы v; заносим значения в столбец vacancies*/\n",
        "                FROM public.vacancies v /*Из таблицы vacancies с алиасом v*/\n",
        "                JOIN public.areas a ON v.area_id = a.id /*присоединяем таблицу areas с алиасом а; соединение по столбцам area_id таблицы v и id таблицы а*/\n",
        "                GROUP BY a.name) /*Группируем по столбцу name таблицы а*/\n",
        "            '''"
      ]
    },
    {
      "cell_type": "code",
      "execution_count": 25,
      "id": "x1ikWbydrbf6",
      "metadata": {
        "id": "x1ikWbydrbf6"
      },
      "outputs": [
        {
          "data": {
            "text/html": [
              "<div>\n",
              "<style scoped>\n",
              "    .dataframe tbody tr th:only-of-type {\n",
              "        vertical-align: middle;\n",
              "    }\n",
              "\n",
              "    .dataframe tbody tr th {\n",
              "        vertical-align: top;\n",
              "    }\n",
              "\n",
              "    .dataframe thead th {\n",
              "        text-align: right;\n",
              "    }\n",
              "</style>\n",
              "<table border=\"1\" class=\"dataframe\">\n",
              "  <thead>\n",
              "    <tr style=\"text-align: right;\">\n",
              "      <th></th>\n",
              "      <th>name</th>\n",
              "      <th>employers</th>\n",
              "      <th>vacancies</th>\n",
              "    </tr>\n",
              "  </thead>\n",
              "  <tbody>\n",
              "    <tr>\n",
              "      <th>0</th>\n",
              "      <td>Россия</td>\n",
              "      <td>410</td>\n",
              "      <td>NaN</td>\n",
              "    </tr>\n",
              "    <tr>\n",
              "      <th>1</th>\n",
              "      <td>Абакан</td>\n",
              "      <td>25</td>\n",
              "      <td>37.0</td>\n",
              "    </tr>\n",
              "    <tr>\n",
              "      <th>2</th>\n",
              "      <td>Абан</td>\n",
              "      <td>1</td>\n",
              "      <td>1.0</td>\n",
              "    </tr>\n",
              "    <tr>\n",
              "      <th>3</th>\n",
              "      <td>Абдулино</td>\n",
              "      <td>1</td>\n",
              "      <td>1.0</td>\n",
              "    </tr>\n",
              "    <tr>\n",
              "      <th>4</th>\n",
              "      <td>Абинск</td>\n",
              "      <td>3</td>\n",
              "      <td>6.0</td>\n",
              "    </tr>\n",
              "    <tr>\n",
              "      <th>...</th>\n",
              "      <td>...</td>\n",
              "      <td>...</td>\n",
              "      <td>...</td>\n",
              "    </tr>\n",
              "    <tr>\n",
              "      <th>765</th>\n",
              "      <td>Ялуторовск</td>\n",
              "      <td>3</td>\n",
              "      <td>3.0</td>\n",
              "    </tr>\n",
              "    <tr>\n",
              "      <th>766</th>\n",
              "      <td>Ярославль</td>\n",
              "      <td>198</td>\n",
              "      <td>391.0</td>\n",
              "    </tr>\n",
              "    <tr>\n",
              "      <th>767</th>\n",
              "      <td>Ярцево</td>\n",
              "      <td>2</td>\n",
              "      <td>2.0</td>\n",
              "    </tr>\n",
              "    <tr>\n",
              "      <th>768</th>\n",
              "      <td>Ясногорск</td>\n",
              "      <td>2</td>\n",
              "      <td>2.0</td>\n",
              "    </tr>\n",
              "    <tr>\n",
              "      <th>769</th>\n",
              "      <td>Яя</td>\n",
              "      <td>1</td>\n",
              "      <td>1.0</td>\n",
              "    </tr>\n",
              "  </tbody>\n",
              "</table>\n",
              "<p>770 rows × 3 columns</p>\n",
              "</div>"
            ],
            "text/plain": [
              "           name  employers  vacancies\n",
              "0        Россия        410        NaN\n",
              "1        Абакан         25       37.0\n",
              "2          Абан          1        1.0\n",
              "3      Абдулино          1        1.0\n",
              "4        Абинск          3        6.0\n",
              "..          ...        ...        ...\n",
              "765  Ялуторовск          3        3.0\n",
              "766   Ярославль        198      391.0\n",
              "767      Ярцево          2        2.0\n",
              "768   Ясногорск          2        2.0\n",
              "769          Яя          1        1.0\n",
              "\n",
              "[770 rows x 3 columns]"
            ]
          },
          "execution_count": 25,
          "metadata": {},
          "output_type": "execute_result"
        }
      ],
      "source": [
        "# результат запроса\n",
        "regions_on_employers_and_vacancies = pd.read_sql_query(query_5_2, connection)\n",
        "regions_on_employers_and_vacancies"
      ]
    },
    {
      "attachments": {},
      "cell_type": "markdown",
      "id": "f2fe0acb-ab1a-4e15-9326-2560e22d73c1",
      "metadata": {
        "id": "f2fe0acb-ab1a-4e15-9326-2560e22d73c1"
      },
      "source": [
        "3. Для каждого работодателя посчитайте количество регионов, в которых он публикует свои вакансии. Отсортируйте результат по убыванию количества.\n"
      ]
    },
    {
      "cell_type": "code",
      "execution_count": 26,
      "id": "6271f8ad-bd2e-4196-ae4a-5b39c4c1010e",
      "metadata": {
        "id": "6271f8ad-bd2e-4196-ae4a-5b39c4c1010e"
      },
      "outputs": [],
      "source": [
        "# текст запроса\n",
        "query_5_3 = f'''SELECT \n",
        "                    e.name, /*Выбираем столбец name таблицы е*/\n",
        "                    COUNT(DISTINCT v.area_id) /*Считаем количество уникальных записей в столбце area_id таблицы v*/\n",
        "                FROM public.employers e /*Из таблицы employers с алиасом e*/\n",
        "                JOIN public.vacancies v ON e.id = v.employer_id /*присоединяем таблицу vacancies с алиасом v; соединение по столбцам id таблицы е и employer_id таблицы v*/\n",
        "                GROUP BY e.name /*Группируем по столбцу name таблицы е*/\n",
        "                ORDER BY 2 DESC /*Сортируем по убыванию по столбцу 2*/\n",
        "            '''"
      ]
    },
    {
      "cell_type": "code",
      "execution_count": 27,
      "id": "1EIvX3HasH4F",
      "metadata": {
        "id": "1EIvX3HasH4F"
      },
      "outputs": [
        {
          "data": {
            "text/html": [
              "<div>\n",
              "<style scoped>\n",
              "    .dataframe tbody tr th:only-of-type {\n",
              "        vertical-align: middle;\n",
              "    }\n",
              "\n",
              "    .dataframe tbody tr th {\n",
              "        vertical-align: top;\n",
              "    }\n",
              "\n",
              "    .dataframe thead th {\n",
              "        text-align: right;\n",
              "    }\n",
              "</style>\n",
              "<table border=\"1\" class=\"dataframe\">\n",
              "  <thead>\n",
              "    <tr style=\"text-align: right;\">\n",
              "      <th></th>\n",
              "      <th>name</th>\n",
              "      <th>count</th>\n",
              "    </tr>\n",
              "  </thead>\n",
              "  <tbody>\n",
              "    <tr>\n",
              "      <th>0</th>\n",
              "      <td>Яндекс</td>\n",
              "      <td>181</td>\n",
              "    </tr>\n",
              "    <tr>\n",
              "      <th>1</th>\n",
              "      <td>Ростелеком</td>\n",
              "      <td>152</td>\n",
              "    </tr>\n",
              "    <tr>\n",
              "      <th>2</th>\n",
              "      <td>Спецремонт</td>\n",
              "      <td>116</td>\n",
              "    </tr>\n",
              "    <tr>\n",
              "      <th>3</th>\n",
              "      <td>Поляков Денис Иванович</td>\n",
              "      <td>88</td>\n",
              "    </tr>\n",
              "    <tr>\n",
              "      <th>4</th>\n",
              "      <td>ООО ЕФИН</td>\n",
              "      <td>71</td>\n",
              "    </tr>\n",
              "    <tr>\n",
              "      <th>...</th>\n",
              "      <td>...</td>\n",
              "      <td>...</td>\n",
              "    </tr>\n",
              "    <tr>\n",
              "      <th>14761</th>\n",
              "      <td>UniSol</td>\n",
              "      <td>1</td>\n",
              "    </tr>\n",
              "    <tr>\n",
              "      <th>14762</th>\n",
              "      <td>UNISTORY LLC</td>\n",
              "      <td>1</td>\n",
              "    </tr>\n",
              "    <tr>\n",
              "      <th>14763</th>\n",
              "      <td>UNIT6</td>\n",
              "      <td>1</td>\n",
              "    </tr>\n",
              "    <tr>\n",
              "      <th>14764</th>\n",
              "      <td>United Distribution</td>\n",
              "      <td>1</td>\n",
              "    </tr>\n",
              "    <tr>\n",
              "      <th>14765</th>\n",
              "      <td>UNITEL LLC</td>\n",
              "      <td>1</td>\n",
              "    </tr>\n",
              "  </tbody>\n",
              "</table>\n",
              "<p>14766 rows × 2 columns</p>\n",
              "</div>"
            ],
            "text/plain": [
              "                         name  count\n",
              "0                      Яндекс    181\n",
              "1                  Ростелеком    152\n",
              "2                  Спецремонт    116\n",
              "3      Поляков Денис Иванович     88\n",
              "4                   ООО ЕФИН      71\n",
              "...                       ...    ...\n",
              "14761                  UniSol      1\n",
              "14762            UNISTORY LLC      1\n",
              "14763                   UNIT6      1\n",
              "14764     United Distribution      1\n",
              "14765              UNITEL LLC      1\n",
              "\n",
              "[14766 rows x 2 columns]"
            ]
          },
          "execution_count": 27,
          "metadata": {},
          "output_type": "execute_result"
        }
      ],
      "source": [
        "# результат запроса\n",
        "employers_in_regions = pd.read_sql_query(query_5_3, connection)\n",
        "employers_in_regions"
      ]
    },
    {
      "attachments": {},
      "cell_type": "markdown",
      "id": "eab2206d-d95b-468b-8e5f-34381abf0ce7",
      "metadata": {
        "id": "eab2206d-d95b-468b-8e5f-34381abf0ce7"
      },
      "source": [
        "4. Напишите запрос для подсчёта количества работодателей, у которых не указана сфера деятельности. "
      ]
    },
    {
      "cell_type": "code",
      "execution_count": 28,
      "id": "80defb23-bfb1-4a18-8be6-bf36aa7165d5",
      "metadata": {
        "id": "80defb23-bfb1-4a18-8be6-bf36aa7165d5"
      },
      "outputs": [],
      "source": [
        "# текст запроса\n",
        "query_5_4 = f'''SELECT \n",
        "                    COUNT(DISTINCT e.id) /*Считаем количество уникальных записей в столбце id таблицы е*/\n",
        "                FROM public.employers e /*Из таблицы employers с алиасом e*/\n",
        "                LEFT JOIN public.employers_industries ei ON e.id = ei.employer_id /*присоединяем методом LEFT JOIN таблицу employers_industries с алиасом ei; соединение по столбцам id таблицы е и employer_id таблицы ei*/\n",
        "                WHERE ei.industry_id IS NULL /*Где значения в столбце ei.industry_id ненулевые*/\n",
        "            '''"
      ]
    },
    {
      "cell_type": "code",
      "execution_count": 29,
      "id": "Dp_yCx6ysQSu",
      "metadata": {
        "id": "Dp_yCx6ysQSu"
      },
      "outputs": [
        {
          "data": {
            "text/html": [
              "<div>\n",
              "<style scoped>\n",
              "    .dataframe tbody tr th:only-of-type {\n",
              "        vertical-align: middle;\n",
              "    }\n",
              "\n",
              "    .dataframe tbody tr th {\n",
              "        vertical-align: top;\n",
              "    }\n",
              "\n",
              "    .dataframe thead th {\n",
              "        text-align: right;\n",
              "    }\n",
              "</style>\n",
              "<table border=\"1\" class=\"dataframe\">\n",
              "  <thead>\n",
              "    <tr style=\"text-align: right;\">\n",
              "      <th></th>\n",
              "      <th>count</th>\n",
              "    </tr>\n",
              "  </thead>\n",
              "  <tbody>\n",
              "    <tr>\n",
              "      <th>0</th>\n",
              "      <td>8419</td>\n",
              "    </tr>\n",
              "  </tbody>\n",
              "</table>\n",
              "</div>"
            ],
            "text/plain": [
              "   count\n",
              "0   8419"
            ]
          },
          "execution_count": 29,
          "metadata": {},
          "output_type": "execute_result"
        }
      ],
      "source": [
        "# результат запроса\n",
        "employers_without_industry = pd.read_sql_query(query_5_4, connection)\n",
        "employers_without_industry"
      ]
    },
    {
      "attachments": {},
      "cell_type": "markdown",
      "id": "0112af31-f6b0-4e3b-82ab-71296e752e5e",
      "metadata": {
        "id": "0112af31-f6b0-4e3b-82ab-71296e752e5e"
      },
      "source": [
        "5. Напишите запрос, чтобы узнать название компании, находящейся на третьем месте в алфавитном списке (по названию) компаний, у которых указано четыре сферы деятельности. "
      ]
    },
    {
      "cell_type": "code",
      "execution_count": 30,
      "id": "973b0cfc-a972-470a-8b4a-68744ef220c4",
      "metadata": {
        "id": "973b0cfc-a972-470a-8b4a-68744ef220c4"
      },
      "outputs": [],
      "source": [
        "# текст запроса\n",
        "query_5_5 = f'''SELECT \n",
        "                    e.name /*Выбираем столбец name таблицы е*/\n",
        "                FROM public.employers e /*Из таблицы employers с алиасом e*/\n",
        "                JOIN public.employers_industries ei ON e.id = ei.employer_id /*присоединяем таблицу employers_industries с алиасом ei; соединение по столбцам id таблицы е и employer_id таблицы ei*/\n",
        "                GROUP BY e.name /*Группируем по столбцу name таблицы е*/\n",
        "                HAVING COUNT(DISTINCT ei.industry_id) = 4 /*При условии, что количество уникальных записей в столбце ei.industry_id равно 4*/\n",
        "                ORDER BY e.name /*Сортируем по столбцу e.name*/\n",
        "                OFFSET 2 LIMIT 1 /*Пропускаем первые 2 записи и выводим первую из оставшихся*/\n",
        "            '''"
      ]
    },
    {
      "cell_type": "code",
      "execution_count": 31,
      "id": "xsPtpp8EsaED",
      "metadata": {
        "id": "xsPtpp8EsaED"
      },
      "outputs": [
        {
          "data": {
            "text/html": [
              "<div>\n",
              "<style scoped>\n",
              "    .dataframe tbody tr th:only-of-type {\n",
              "        vertical-align: middle;\n",
              "    }\n",
              "\n",
              "    .dataframe tbody tr th {\n",
              "        vertical-align: top;\n",
              "    }\n",
              "\n",
              "    .dataframe thead th {\n",
              "        text-align: right;\n",
              "    }\n",
              "</style>\n",
              "<table border=\"1\" class=\"dataframe\">\n",
              "  <thead>\n",
              "    <tr style=\"text-align: right;\">\n",
              "      <th></th>\n",
              "      <th>name</th>\n",
              "    </tr>\n",
              "  </thead>\n",
              "  <tbody>\n",
              "    <tr>\n",
              "      <th>0</th>\n",
              "      <td>2ГИС</td>\n",
              "    </tr>\n",
              "  </tbody>\n",
              "</table>\n",
              "</div>"
            ],
            "text/plain": [
              "   name\n",
              "0  2ГИС"
            ]
          },
          "execution_count": 31,
          "metadata": {},
          "output_type": "execute_result"
        }
      ],
      "source": [
        "# результат запроса\n",
        "employers_with_four_industries = pd.read_sql_query(query_5_5, connection)\n",
        "employers_with_four_industries"
      ]
    },
    {
      "attachments": {},
      "cell_type": "markdown",
      "id": "3bfcfdaf-755d-4d2b-8ed8-326201dc07ab",
      "metadata": {
        "id": "3bfcfdaf-755d-4d2b-8ed8-326201dc07ab"
      },
      "source": [
        "6. С помощью запроса выясните, у какого количества работодателей в качестве сферы деятельности указана Разработка программного обеспечения.\n"
      ]
    },
    {
      "cell_type": "code",
      "execution_count": 32,
      "id": "ad3f270f-2991-47eb-929b-e8f88a55b0d1",
      "metadata": {
        "id": "ad3f270f-2991-47eb-929b-e8f88a55b0d1"
      },
      "outputs": [],
      "source": [
        "# текст запроса\n",
        "query_5_6 = f'''SELECT \n",
        "                    COUNT(DISTINCT ei.employer_id) /*Считаем количество уникальных записей в столбце employer_id таблицы ei*/\n",
        "                FROM public.employers_industries ei /*Из таблицы employers_industries с алиасом ei*/\n",
        "                JOIN public.industries i ON ei.industry_id = i.id /*присоединяем таблицу eindustries с алиасом i; соединение по столбцам industry_id таблицы ei и id таблицы i*/\n",
        "                WHERE i.name = 'Разработка программного обеспечения' /*Где значения в столбце i.name 'Разработка программного обеспечения'*/\n",
        "            '''"
      ]
    },
    {
      "cell_type": "code",
      "execution_count": 33,
      "id": "H72qxWM0shPR",
      "metadata": {
        "id": "H72qxWM0shPR"
      },
      "outputs": [
        {
          "data": {
            "text/html": [
              "<div>\n",
              "<style scoped>\n",
              "    .dataframe tbody tr th:only-of-type {\n",
              "        vertical-align: middle;\n",
              "    }\n",
              "\n",
              "    .dataframe tbody tr th {\n",
              "        vertical-align: top;\n",
              "    }\n",
              "\n",
              "    .dataframe thead th {\n",
              "        text-align: right;\n",
              "    }\n",
              "</style>\n",
              "<table border=\"1\" class=\"dataframe\">\n",
              "  <thead>\n",
              "    <tr style=\"text-align: right;\">\n",
              "      <th></th>\n",
              "      <th>count</th>\n",
              "    </tr>\n",
              "  </thead>\n",
              "  <tbody>\n",
              "    <tr>\n",
              "      <th>0</th>\n",
              "      <td>3553</td>\n",
              "    </tr>\n",
              "  </tbody>\n",
              "</table>\n",
              "</div>"
            ],
            "text/plain": [
              "   count\n",
              "0   3553"
            ]
          },
          "execution_count": 33,
          "metadata": {},
          "output_type": "execute_result"
        }
      ],
      "source": [
        "# результат запроса\n",
        "software_development = pd.read_sql_query(query_5_6, connection)\n",
        "software_development"
      ]
    },
    {
      "attachments": {},
      "cell_type": "markdown",
      "id": "7b02bb86-0546-40fb-94a4-242f050a5c57",
      "metadata": {
        "id": "7b02bb86-0546-40fb-94a4-242f050a5c57"
      },
      "source": [
        "7. Для компании «Яндекс» выведите список регионов-миллионников, в которых представлены вакансии компании, вместе с количеством вакансий в этих регионах. Также добавьте строку Total с общим количеством вакансий компании. Результат отсортируйте по возрастанию количества.\n",
        "\n",
        "Список городов-милионников надо взять [отсюда](https://ru.wikipedia.org/wiki/%D0%93%D0%BE%D1%80%D0%BE%D0%B4%D0%B0-%D0%BC%D0%B8%D0%BB%D0%BB%D0%B8%D0%BE%D0%BD%D0%B5%D1%80%D1%8B_%D0%A0%D0%BE%D1%81%D1%81%D0%B8%D0%B8). \n",
        "\n",
        "Если возникнут трудности с этим задание посмотрите материалы модуля  PYTHON-17. Как получать данные из веб-источников и API. "
      ]
    },
    {
      "cell_type": "code",
      "execution_count": 34,
      "id": "ZdfrL6gIs1Pn",
      "metadata": {
        "id": "ZdfrL6gIs1Pn"
      },
      "outputs": [
        {
          "data": {
            "text/plain": [
              "('Москва',\n",
              " 'Санкт-Петербург',\n",
              " 'Новосибирск',\n",
              " 'Екатеринбург',\n",
              " 'Казань',\n",
              " 'Нижний Новгород',\n",
              " 'Красноярск',\n",
              " 'Челябинск',\n",
              " 'Самара',\n",
              " 'Уфа',\n",
              " 'Ростов-на-Дону',\n",
              " 'Краснодар',\n",
              " 'Омск',\n",
              " 'Воронеж',\n",
              " 'Пермь',\n",
              " 'Волгоград')"
            ]
          },
          "execution_count": 34,
          "metadata": {},
          "output_type": "execute_result"
        }
      ],
      "source": [
        "# код для получения списка городов-милионников\n",
        "import urllib.parse as req # Импортируем библиотеку urllib.parse для парсинга таблицы с городами-миллионниками из \"Википедии\"\n",
        "\n",
        "# Избавляемся от кириллицы в пути URL:\n",
        "path_common = req.urlparse('https://ru.wikipedia.org/wiki/Города-миллионеры_России#Список_городов-миллионеров') \n",
        "url = path_common.scheme + '://' + req.quote(path_common.netloc) +  req.quote(path_common.path) + '#'+ req.quote(path_common.fragment)\n",
        "\n",
        "# Получаем таблицу в формте DF:\n",
        "table = pd.read_html(url)[1]\n",
        "\n",
        "# Из таблицы получаем кортеж с городами-миллионниками:\n",
        "cities_millionairs = tuple(table['Город'])\n",
        "cities_millionairs"
      ]
    },
    {
      "cell_type": "code",
      "execution_count": 35,
      "id": "5a0e32a4-e68a-4365-8a39-2fe24c542c36",
      "metadata": {
        "id": "5a0e32a4-e68a-4365-8a39-2fe24c542c36"
      },
      "outputs": [],
      "source": [
        "# текст запроса\n",
        "query_5_7 = f'''WITH Temp AS( /*Формируем временный запрос под названием Temp*/\n",
        "                SELECT \n",
        "                    a.name city, /*Выбираем столбец name таблицы а; присваиваем столбцу название city*/\n",
        "                    COUNT(v.id) cnt /*Считаем количество записей в столбце id таблицы v; присваиваем столбцу название cnt*/\n",
        "                FROM public.areas a /*Из таблицы areas с алиасом а*/\n",
        "                JOIN public.vacancies v ON a.id = v.area_id /*присоединяем таблицу vacancies с алиасом v; соединение по столбцам id таблицы а и area_id таблицы v*/\n",
        "                JOIN public.employers e ON v.employer_id = e.id\n",
        "                WHERE e.name = 'Яндекс' /*Где значения в столбце е.name 'Яндекс'*/\n",
        "                GROUP BY a.name /*Группируем по столбцу name таблицы а*/\n",
        "                HAVING a.name in {cities_millionairs} /*При условии, что запись в столбце a.name есть в переменной cities_millionairs*/\n",
        "                ORDER BY cnt /*Сортируем по столбцу cnt*/\n",
        "                )\n",
        "                \n",
        "                SELECT * /*Выбираем все столбцы*/\n",
        "                FROM Temp /*из таблицы Temp*/\n",
        "                \n",
        "                UNION ALL /*Оператор объединения запросов*/\n",
        "                \n",
        "                SELECT 'total', sum(cnt) /*Вводим в первый столбец запись 'total', а во второй - сумму по столбцу cnt*/\n",
        "                FROM Temp /*из таблицы Temp*/\n",
        "            '''"
      ]
    },
    {
      "cell_type": "code",
      "execution_count": 36,
      "id": "ttPhiO1rsvPq",
      "metadata": {
        "id": "ttPhiO1rsvPq"
      },
      "outputs": [
        {
          "data": {
            "text/html": [
              "<div>\n",
              "<style scoped>\n",
              "    .dataframe tbody tr th:only-of-type {\n",
              "        vertical-align: middle;\n",
              "    }\n",
              "\n",
              "    .dataframe tbody tr th {\n",
              "        vertical-align: top;\n",
              "    }\n",
              "\n",
              "    .dataframe thead th {\n",
              "        text-align: right;\n",
              "    }\n",
              "</style>\n",
              "<table border=\"1\" class=\"dataframe\">\n",
              "  <thead>\n",
              "    <tr style=\"text-align: right;\">\n",
              "      <th></th>\n",
              "      <th>city</th>\n",
              "      <th>cnt</th>\n",
              "    </tr>\n",
              "  </thead>\n",
              "  <tbody>\n",
              "    <tr>\n",
              "      <th>0</th>\n",
              "      <td>Омск</td>\n",
              "      <td>21.0</td>\n",
              "    </tr>\n",
              "    <tr>\n",
              "      <th>1</th>\n",
              "      <td>Челябинск</td>\n",
              "      <td>22.0</td>\n",
              "    </tr>\n",
              "    <tr>\n",
              "      <th>2</th>\n",
              "      <td>Красноярск</td>\n",
              "      <td>23.0</td>\n",
              "    </tr>\n",
              "    <tr>\n",
              "      <th>3</th>\n",
              "      <td>Волгоград</td>\n",
              "      <td>24.0</td>\n",
              "    </tr>\n",
              "    <tr>\n",
              "      <th>4</th>\n",
              "      <td>Пермь</td>\n",
              "      <td>25.0</td>\n",
              "    </tr>\n",
              "    <tr>\n",
              "      <th>5</th>\n",
              "      <td>Казань</td>\n",
              "      <td>25.0</td>\n",
              "    </tr>\n",
              "    <tr>\n",
              "      <th>6</th>\n",
              "      <td>Ростов-на-Дону</td>\n",
              "      <td>25.0</td>\n",
              "    </tr>\n",
              "    <tr>\n",
              "      <th>7</th>\n",
              "      <td>Уфа</td>\n",
              "      <td>26.0</td>\n",
              "    </tr>\n",
              "    <tr>\n",
              "      <th>8</th>\n",
              "      <td>Самара</td>\n",
              "      <td>26.0</td>\n",
              "    </tr>\n",
              "    <tr>\n",
              "      <th>9</th>\n",
              "      <td>Краснодар</td>\n",
              "      <td>30.0</td>\n",
              "    </tr>\n",
              "    <tr>\n",
              "      <th>10</th>\n",
              "      <td>Воронеж</td>\n",
              "      <td>32.0</td>\n",
              "    </tr>\n",
              "    <tr>\n",
              "      <th>11</th>\n",
              "      <td>Новосибирск</td>\n",
              "      <td>35.0</td>\n",
              "    </tr>\n",
              "    <tr>\n",
              "      <th>12</th>\n",
              "      <td>Нижний Новгород</td>\n",
              "      <td>36.0</td>\n",
              "    </tr>\n",
              "    <tr>\n",
              "      <th>13</th>\n",
              "      <td>Екатеринбург</td>\n",
              "      <td>39.0</td>\n",
              "    </tr>\n",
              "    <tr>\n",
              "      <th>14</th>\n",
              "      <td>Санкт-Петербург</td>\n",
              "      <td>42.0</td>\n",
              "    </tr>\n",
              "    <tr>\n",
              "      <th>15</th>\n",
              "      <td>Москва</td>\n",
              "      <td>54.0</td>\n",
              "    </tr>\n",
              "    <tr>\n",
              "      <th>16</th>\n",
              "      <td>total</td>\n",
              "      <td>485.0</td>\n",
              "    </tr>\n",
              "  </tbody>\n",
              "</table>\n",
              "</div>"
            ],
            "text/plain": [
              "               city    cnt\n",
              "0              Омск   21.0\n",
              "1         Челябинск   22.0\n",
              "2        Красноярск   23.0\n",
              "3         Волгоград   24.0\n",
              "4             Пермь   25.0\n",
              "5            Казань   25.0\n",
              "6    Ростов-на-Дону   25.0\n",
              "7               Уфа   26.0\n",
              "8            Самара   26.0\n",
              "9         Краснодар   30.0\n",
              "10          Воронеж   32.0\n",
              "11      Новосибирск   35.0\n",
              "12  Нижний Новгород   36.0\n",
              "13     Екатеринбург   39.0\n",
              "14  Санкт-Петербург   42.0\n",
              "15           Москва   54.0\n",
              "16            total  485.0"
            ]
          },
          "execution_count": 36,
          "metadata": {},
          "output_type": "execute_result"
        }
      ],
      "source": [
        "# результат запроса\n",
        "yandex_vacancies = pd.read_sql_query(query_5_7, connection)\n",
        "yandex_vacancies"
      ]
    },
    {
      "attachments": {},
      "cell_type": "markdown",
      "id": "04966e40-3bc3-4dc8-9ba2-e80580ce3abc",
      "metadata": {
        "id": "04966e40-3bc3-4dc8-9ba2-e80580ce3abc"
      },
      "source": [
        "***"
      ]
    },
    {
      "attachments": {},
      "cell_type": "markdown",
      "id": "851f2081",
      "metadata": {},
      "source": [
        "Анализ работодателей показал следующее.\n",
        "\n",
        "1. Лидерами по количеству выставленных вакансий являются компании, развивающие IT-направления. Это неудивительно, поскольку отрасль IT является одним из локомотивов современной экономики.\n",
        "\n",
        "2. Наибольшее количество работодателей находится в столичных городах и городах-миллионниках. Это подчёркивает тенденцию к урбанизации, характерную для современного этапа развития экономики.\n",
        "\n",
        "3. Крупные компании (такие, как \"Яндекс\", \"Ростелеком\", \"Совкомбанк\" и т.п.) публикуют свои вакансии в наибольшем количестве регионов. Это вполне естественно, поскольку филиалы таких компаний находятся по всей стране.\n",
        "\n",
        "4. В общей сложности 8419 компаний не указали сферу деятельности, в которую они хотят нанять сотрудников. Причин тому, как представляется, может быть две: либо сфера деятельности компании понятна из её названия, либо же от кандидата требуется слишком широкий набор навыков, который трудно уложить в два-три слова. Вариант, при котором работодатель может скрывать свою сферу деятельности, обсуждать не хочется.\n",
        "\n",
        "5. Очень много работодателей указали 4 и более сфер деятельности. Это говорит о востребованности на рынке труда работников с самыми разнообразными навыками.\n",
        "\n",
        "6. 3553 работодателя ищут соискателей в сферу разработки программного обеспечения. Это лишний раз подтверждает высокий спрос на представителей IT-специальнотсей, о котором говорилось в п.1.\n",
        "\n",
        "7. Отечественный лидер IT-разрабток, компания \"Яндекс\", выставила 485 вакансий в городах-миллионниках. Данный факт свидетельствует о том, что у компании всё хорошо, она расширяет штат сотрудников в связи с ростом объёма работ."
      ]
    },
    {
      "attachments": {},
      "cell_type": "markdown",
      "id": "b1ef156a-efcb-49ce-bb23-90763e7f35b2",
      "metadata": {
        "id": "b1ef156a-efcb-49ce-bb23-90763e7f35b2",
        "tags": []
      },
      "source": [
        "# Юнит 6. Предметный анализ"
      ]
    },
    {
      "attachments": {},
      "cell_type": "markdown",
      "id": "b9cd50a0-992d-4988-8463-2b2b1c4629b4",
      "metadata": {
        "id": "b9cd50a0-992d-4988-8463-2b2b1c4629b4"
      },
      "source": [
        "1. Сколько вакансий имеет отношение к данным?\n",
        "\n",
        "Считаем, что вакансия имеет отношение к данным, если в её названии содержатся слова 'data' или 'данн'.\n",
        "\n",
        "*Подсказка: Обратите внимание, что названия вакансий могут быть написаны в любом регистре.* \n"
      ]
    },
    {
      "cell_type": "code",
      "execution_count": 37,
      "id": "54ab0e50-c0f1-47cc-a54b-bc5c8bc363f9",
      "metadata": {
        "id": "54ab0e50-c0f1-47cc-a54b-bc5c8bc363f9"
      },
      "outputs": [],
      "source": [
        "# текст запроса\n",
        "query_6_1 = f'''SELECT \n",
        "                    COUNT(name) /*Считаем количество записей в столбце name*/\n",
        "                FROM public.vacancies /*Из таблицы vacancies*/\n",
        "                WHERE lower(name) LIKE '%data%' OR lower(name) LIKE '%данн%' /*Где значения в столбце, приведённые к нижнему регистру, содержат комбинацию символов 'data' и 'данн'*/\n",
        "            '''"
      ]
    },
    {
      "cell_type": "code",
      "execution_count": 38,
      "id": "9F1meAqsuUjd",
      "metadata": {
        "id": "9F1meAqsuUjd"
      },
      "outputs": [
        {
          "data": {
            "text/html": [
              "<div>\n",
              "<style scoped>\n",
              "    .dataframe tbody tr th:only-of-type {\n",
              "        vertical-align: middle;\n",
              "    }\n",
              "\n",
              "    .dataframe tbody tr th {\n",
              "        vertical-align: top;\n",
              "    }\n",
              "\n",
              "    .dataframe thead th {\n",
              "        text-align: right;\n",
              "    }\n",
              "</style>\n",
              "<table border=\"1\" class=\"dataframe\">\n",
              "  <thead>\n",
              "    <tr style=\"text-align: right;\">\n",
              "      <th></th>\n",
              "      <th>count</th>\n",
              "    </tr>\n",
              "  </thead>\n",
              "  <tbody>\n",
              "    <tr>\n",
              "      <th>0</th>\n",
              "      <td>1771</td>\n",
              "    </tr>\n",
              "  </tbody>\n",
              "</table>\n",
              "</div>"
            ],
            "text/plain": [
              "   count\n",
              "0   1771"
            ]
          },
          "execution_count": 38,
          "metadata": {},
          "output_type": "execute_result"
        }
      ],
      "source": [
        "# результат запроса\n",
        "data_vacancies = pd.read_sql_query(query_6_1, connection)\n",
        "data_vacancies"
      ]
    },
    {
      "attachments": {},
      "cell_type": "markdown",
      "id": "4dea20cb-a36b-474a-a0b9-e08e8e3857a5",
      "metadata": {
        "id": "4dea20cb-a36b-474a-a0b9-e08e8e3857a5"
      },
      "source": [
        "2. Сколько есть подходящих вакансий для начинающего дата-сайентиста? \n",
        "Будем считать вакансиями для дата-сайентистов такие, в названии которых есть хотя бы одно из следующих сочетаний:\n",
        "* 'data scientist'\n",
        "* 'data science'\n",
        "* 'исследователь данных'\n",
        "* 'ML' (здесь не нужно брать вакансии по HTML)\n",
        "* 'machine learning'\n",
        "* 'машинн%обучен%'\n",
        "\n",
        "** В следующих заданиях мы продолжим работать с вакансиями по этому условию.*\n",
        "\n",
        "Считаем вакансиями для специалистов уровня Junior следующие:\n",
        "* в названии есть слово 'junior' *или*\n",
        "* требуемый опыт — Нет опыта *или*\n",
        "* тип трудоустройства — Стажировка.\n",
        " "
      ]
    },
    {
      "cell_type": "code",
      "execution_count": 39,
      "id": "9c61b3c0-bb66-46c9-ae1e-81d3f5752b4a",
      "metadata": {
        "id": "9c61b3c0-bb66-46c9-ae1e-81d3f5752b4a"
      },
      "outputs": [],
      "source": [
        "# текст запроса\n",
        "query_6_2 = f'''SELECT \n",
        "                    COUNT(name) /*Считаем количество записей в столбце name*/\n",
        "                FROM public.vacancies /*Из таблицы vacancies*/\n",
        "                WHERE \n",
        "                    (\n",
        "                    LOWER(name) like '%data scientist%' OR /*Где значения в столбце, приведённые к нижнему регистру, содержат комбинацию символов 'data scientist'*/\n",
        "                    LOWER(name) like '%data science%' OR /*или 'data science'*/\n",
        "                    LOWER(name) like '%исследователь данных%' OR /*или 'исследователь данных'*/\n",
        "                    (name not like '%HTML%' and name like '%ML%') OR /*или 'ML', но не 'HTML'*/\n",
        "                    LOWER(name) like '%machine learning%' OR /*или 'machine learning'*/\n",
        "                    LOWER(name) like '%машинн%обучен%' /*или 'машинн...обучен'*/\n",
        "                    )\n",
        "                    AND /*а также*/\n",
        "                    (\n",
        "                    LOWER(name)  like '%junior%' OR /*Где значения в столбце, приведённые к нижнему регистру, содержат комбинацию символов 'junior'*/\n",
        "                    experience = 'Нет опыта' OR /*или значения в столбце experience 'Нет опыта'*/                \n",
        "                    employment = 'Стажировка' /*или значения в столбце employment 'Стажировка'*/  \n",
        "                    )\n",
        "            '''"
      ]
    },
    {
      "cell_type": "code",
      "execution_count": 40,
      "id": "ZNM-LLYuu1dj",
      "metadata": {
        "id": "ZNM-LLYuu1dj"
      },
      "outputs": [
        {
          "data": {
            "text/html": [
              "<div>\n",
              "<style scoped>\n",
              "    .dataframe tbody tr th:only-of-type {\n",
              "        vertical-align: middle;\n",
              "    }\n",
              "\n",
              "    .dataframe tbody tr th {\n",
              "        vertical-align: top;\n",
              "    }\n",
              "\n",
              "    .dataframe thead th {\n",
              "        text-align: right;\n",
              "    }\n",
              "</style>\n",
              "<table border=\"1\" class=\"dataframe\">\n",
              "  <thead>\n",
              "    <tr style=\"text-align: right;\">\n",
              "      <th></th>\n",
              "      <th>count</th>\n",
              "    </tr>\n",
              "  </thead>\n",
              "  <tbody>\n",
              "    <tr>\n",
              "      <th>0</th>\n",
              "      <td>51</td>\n",
              "    </tr>\n",
              "  </tbody>\n",
              "</table>\n",
              "</div>"
            ],
            "text/plain": [
              "   count\n",
              "0     51"
            ]
          },
          "execution_count": 40,
          "metadata": {},
          "output_type": "execute_result"
        }
      ],
      "source": [
        "# результат запроса\n",
        "jun_DS = pd.read_sql_query(query_6_2, connection)\n",
        "jun_DS"
      ]
    },
    {
      "attachments": {},
      "cell_type": "markdown",
      "id": "eedceb80-c5ca-480e-b27a-278dfb8b4438",
      "metadata": {
        "id": "eedceb80-c5ca-480e-b27a-278dfb8b4438"
      },
      "source": [
        "3. Сколько есть вакансий для DS, в которых в качестве ключевого навыка указан SQL или postgres?\n",
        "\n",
        "** Критерии для отнесения вакансии к DS указаны в предыдущем задании.*"
      ]
    },
    {
      "cell_type": "code",
      "execution_count": 41,
      "id": "69621713-0cc5-4f1b-a1d7-bb144fa6148c",
      "metadata": {
        "id": "69621713-0cc5-4f1b-a1d7-bb144fa6148c"
      },
      "outputs": [],
      "source": [
        "# текст запроса\n",
        "query_6_3 = f'''SELECT /*Запрос, аналогичный запросу 6_2*/\n",
        "                    COUNT(name)\n",
        "                FROM public.vacancies \n",
        "                WHERE \n",
        "                    (\n",
        "                    LOWER(name) like '%data scientist%' OR \n",
        "                    LOWER(name) like '%data science%' OR\n",
        "                    LOWER(name) like '%исследователь данных%' OR\n",
        "                    (name not like '%HTML%' and name like '%ML%') OR\n",
        "                    LOWER(name) like '%machine learning%' OR\n",
        "                    LOWER(name) like '%машинн%обучен%'\n",
        "                    )\n",
        "                    AND\n",
        "                    (\n",
        "                    key_skills LIKE '%SQL%' OR /*Где значения в столбце key_skills содержат комбинацию символов 'SQL'*/\n",
        "                    key_skills LIKE '%postgres%' /*или 'postgres'*/\n",
        "                    )\n",
        "            '''"
      ]
    },
    {
      "cell_type": "code",
      "execution_count": 42,
      "id": "alA8WEAAvGdf",
      "metadata": {
        "id": "alA8WEAAvGdf"
      },
      "outputs": [
        {
          "data": {
            "text/html": [
              "<div>\n",
              "<style scoped>\n",
              "    .dataframe tbody tr th:only-of-type {\n",
              "        vertical-align: middle;\n",
              "    }\n",
              "\n",
              "    .dataframe tbody tr th {\n",
              "        vertical-align: top;\n",
              "    }\n",
              "\n",
              "    .dataframe thead th {\n",
              "        text-align: right;\n",
              "    }\n",
              "</style>\n",
              "<table border=\"1\" class=\"dataframe\">\n",
              "  <thead>\n",
              "    <tr style=\"text-align: right;\">\n",
              "      <th></th>\n",
              "      <th>count</th>\n",
              "    </tr>\n",
              "  </thead>\n",
              "  <tbody>\n",
              "    <tr>\n",
              "      <th>0</th>\n",
              "      <td>201</td>\n",
              "    </tr>\n",
              "  </tbody>\n",
              "</table>\n",
              "</div>"
            ],
            "text/plain": [
              "   count\n",
              "0    201"
            ]
          },
          "execution_count": 42,
          "metadata": {},
          "output_type": "execute_result"
        }
      ],
      "source": [
        "# результат запроса\n",
        "DS_SQL = pd.read_sql_query(query_6_3, connection)\n",
        "DS_SQL"
      ]
    },
    {
      "attachments": {},
      "cell_type": "markdown",
      "id": "1be1e9c6-37cf-4a5f-bfeb-04cab799dc80",
      "metadata": {
        "id": "1be1e9c6-37cf-4a5f-bfeb-04cab799dc80"
      },
      "source": [
        "4. Проверьте, насколько популярен Python в требованиях работодателей к DS.Для этого вычислите количество вакансий, в которых в качестве ключевого навыка указан Python.\n",
        "\n",
        "** Это можно сделать помощью запроса, аналогичного предыдущему.*"
      ]
    },
    {
      "cell_type": "code",
      "execution_count": 43,
      "id": "0036a355-9ccf-4564-8b01-73d8194297e7",
      "metadata": {
        "id": "0036a355-9ccf-4564-8b01-73d8194297e7"
      },
      "outputs": [],
      "source": [
        "# текст запроса\n",
        "query_6_4 = f'''SELECT /*Запрос, аналогичный запросу 6_3*/\n",
        "                    COUNT(name)\n",
        "                FROM public.vacancies \n",
        "                WHERE \n",
        "                    (\n",
        "                    LOWER(name) like '%data scientist%' OR \n",
        "                    LOWER(name) like '%data science%' OR\n",
        "                    LOWER(name) like '%исследователь данных%' OR\n",
        "                    (name not like '%HTML%' and name like '%ML%') OR\n",
        "                    LOWER(name) like '%machine learning%' OR\n",
        "                    LOWER(name) like '%машинн%обучен%'\n",
        "                    )\n",
        "                    AND key_skills LIKE '%Python%' /*Где значения в столбце key_skills содержат комбинацию символов 'Python'*/\n",
        "            '''"
      ]
    },
    {
      "cell_type": "code",
      "execution_count": 44,
      "id": "1i-5WyucvQ6v",
      "metadata": {
        "id": "1i-5WyucvQ6v"
      },
      "outputs": [
        {
          "data": {
            "text/html": [
              "<div>\n",
              "<style scoped>\n",
              "    .dataframe tbody tr th:only-of-type {\n",
              "        vertical-align: middle;\n",
              "    }\n",
              "\n",
              "    .dataframe tbody tr th {\n",
              "        vertical-align: top;\n",
              "    }\n",
              "\n",
              "    .dataframe thead th {\n",
              "        text-align: right;\n",
              "    }\n",
              "</style>\n",
              "<table border=\"1\" class=\"dataframe\">\n",
              "  <thead>\n",
              "    <tr style=\"text-align: right;\">\n",
              "      <th></th>\n",
              "      <th>count</th>\n",
              "    </tr>\n",
              "  </thead>\n",
              "  <tbody>\n",
              "    <tr>\n",
              "      <th>0</th>\n",
              "      <td>351</td>\n",
              "    </tr>\n",
              "  </tbody>\n",
              "</table>\n",
              "</div>"
            ],
            "text/plain": [
              "   count\n",
              "0    351"
            ]
          },
          "execution_count": 44,
          "metadata": {},
          "output_type": "execute_result"
        }
      ],
      "source": [
        "# результат запроса\n",
        "DS_python = pd.read_sql_query(query_6_4, connection)\n",
        "DS_python"
      ]
    },
    {
      "attachments": {},
      "cell_type": "markdown",
      "id": "ec3c8db7-fa21-4a41-a994-1af63742a642",
      "metadata": {
        "id": "ec3c8db7-fa21-4a41-a994-1af63742a642"
      },
      "source": [
        "5. Сколько ключевых навыков в среднем указывают в вакансиях для DS?\n",
        "Ответ округлите до двух знаков после точки-разделителя."
      ]
    },
    {
      "cell_type": "code",
      "execution_count": 45,
      "id": "949132bc-d5b6-4611-8218-0b9a504d74f4",
      "metadata": {
        "id": "949132bc-d5b6-4611-8218-0b9a504d74f4"
      },
      "outputs": [],
      "source": [
        "# текст запроса\n",
        "query_6_5 = f'''WITH Temp AS( /*Формируем временный запрос под названием Temp*/\n",
        "                    SELECT \n",
        "                        key_skills, /*Выбираем столбец key_skills*/\n",
        "                        LENGTH(key_skills) - LENGTH(REPLACE(key_skills, '\\t', '')) + 1 AS skills_number /*Считаем разницу между длиной записей в столбце key_skills*/ \n",
        "                                                        /*и длиной записей в том же столбце без табуляций, к разнице прибавляем 1; присваиваем название столбцу skills_number*/\n",
        "                    FROM public.vacancies /*Из таблицы vacancies*/\n",
        "                    WHERE /*Далее повторяем условие проверки принадлежности к профессии дата-сайентиста из запроса 6_2*/\n",
        "                    (\n",
        "                    LOWER(name) like '%data scientist%' OR \n",
        "                    LOWER(name) like '%data science%' OR\n",
        "                    LOWER(name) like '%исследователь данных%' OR\n",
        "                    (name not like '%HTML%' and name like '%ML%') OR\n",
        "                    LOWER(name) like '%machine learning%' OR\n",
        "                    LOWER(name) like '%машинн%обучен%'\n",
        "                    )\n",
        "                    )\n",
        "                    \n",
        "                SELECT\n",
        "                    ROUND(AVG(skills_number), 2) /*Считаем среднее по столбцу skills_number*/\n",
        "                FROM Temp /*Из таблицы Temp*/\n",
        "    '''"
      ]
    },
    {
      "cell_type": "code",
      "execution_count": 46,
      "id": "a3V24Tvmviqk",
      "metadata": {
        "id": "a3V24Tvmviqk"
      },
      "outputs": [
        {
          "data": {
            "text/html": [
              "<div>\n",
              "<style scoped>\n",
              "    .dataframe tbody tr th:only-of-type {\n",
              "        vertical-align: middle;\n",
              "    }\n",
              "\n",
              "    .dataframe tbody tr th {\n",
              "        vertical-align: top;\n",
              "    }\n",
              "\n",
              "    .dataframe thead th {\n",
              "        text-align: right;\n",
              "    }\n",
              "</style>\n",
              "<table border=\"1\" class=\"dataframe\">\n",
              "  <thead>\n",
              "    <tr style=\"text-align: right;\">\n",
              "      <th></th>\n",
              "      <th>round</th>\n",
              "    </tr>\n",
              "  </thead>\n",
              "  <tbody>\n",
              "    <tr>\n",
              "      <th>0</th>\n",
              "      <td>6.41</td>\n",
              "    </tr>\n",
              "  </tbody>\n",
              "</table>\n",
              "</div>"
            ],
            "text/plain": [
              "   round\n",
              "0   6.41"
            ]
          },
          "execution_count": 46,
          "metadata": {},
          "output_type": "execute_result"
        }
      ],
      "source": [
        "# результат запроса\n",
        "DS_avg_skills = pd.read_sql_query(query_6_5, connection)\n",
        "DS_avg_skills"
      ]
    },
    {
      "attachments": {},
      "cell_type": "markdown",
      "id": "1041c17a-ca8f-4543-a0ca-32778914fb00",
      "metadata": {
        "id": "1041c17a-ca8f-4543-a0ca-32778914fb00"
      },
      "source": [
        "6. Напишите запрос, позволяющий вычислить, какую зарплату для DS в **среднем** указывают для каждого типа требуемого опыта (уникальное значение из поля *experience*). \n",
        "\n",
        "При решении задачи примите во внимание следующее:\n",
        "1. Рассматриваем только вакансии, у которых заполнено хотя бы одно из двух полей с зарплатой.\n",
        "2. Если заполнены оба поля с зарплатой, то считаем зарплату по каждой вакансии как сумму двух полей, делённую на 2. Если заполнено только одно из полей, то его и считаем зарплатой по вакансии.\n",
        "3. Если в расчётах участвует null, в результате он тоже даст null (посмотрите, что возвращает запрос select 1 + null). Чтобы избежать этой ситуацию, мы воспользуемся функцией [coalesce](https://postgrespro.ru/docs/postgresql/9.5/functions-conditional#functions-coalesce-nvl-ifnull), которая заменит null на значение, которое мы передадим. Например, посмотрите, что возвращает запрос `select 1 + coalesce(null, 0)`\n",
        "\n",
        "Выясните, на какую зарплату в среднем может рассчитывать дата-сайентист с опытом работы от 3 до 6 лет. Результат округлите до целого числа. "
      ]
    },
    {
      "cell_type": "code",
      "execution_count": 47,
      "id": "6a743d39-5204-48d3-8271-b9f88e68d40e",
      "metadata": {
        "id": "6a743d39-5204-48d3-8271-b9f88e68d40e"
      },
      "outputs": [],
      "source": [
        "# текст запроса\n",
        "query_6_6 = f'''SELECT \n",
        "                    experience, /*Выбираем столбец experience*/\n",
        "                    ROUND(AVG(COALESCE((salary_from + salary_to) / 2, salary_from, salary_to))) avg_salary /*Считаем среднее из суммы записей в столбцах salary_from и salary_to,*/\n",
        "                                    /*делённой на 2, предварительно очистив записи от нулевых значений при помощи функции COALESCE; результат округляем до двух знаком после запятой*/\n",
        "                FROM public.vacancies /*Из таблицы vacancies*/\n",
        "                WHERE /*Далее повторяем условие проверки принадлежности к профессии дата-сайентиста из запроса 6_2*/\n",
        "                    (\n",
        "                    LOWER(name) like '%data scientist%' OR \n",
        "                    LOWER(name) like '%data science%' OR\n",
        "                    LOWER(name) like '%исследователь данных%' OR\n",
        "                    (name not like '%HTML%' and name like '%ML%') OR\n",
        "                    LOWER(name) like '%machine learning%' OR\n",
        "                    LOWER(name) like '%машинн%обучен%'\n",
        "                    )\n",
        "                GROUP BY experience /*Группируем по столбцу experience*/\n",
        "    '''"
      ]
    },
    {
      "cell_type": "code",
      "execution_count": 48,
      "id": "aRIJ0mZEwU1_",
      "metadata": {
        "id": "aRIJ0mZEwU1_"
      },
      "outputs": [
        {
          "data": {
            "text/html": [
              "<div>\n",
              "<style scoped>\n",
              "    .dataframe tbody tr th:only-of-type {\n",
              "        vertical-align: middle;\n",
              "    }\n",
              "\n",
              "    .dataframe tbody tr th {\n",
              "        vertical-align: top;\n",
              "    }\n",
              "\n",
              "    .dataframe thead th {\n",
              "        text-align: right;\n",
              "    }\n",
              "</style>\n",
              "<table border=\"1\" class=\"dataframe\">\n",
              "  <thead>\n",
              "    <tr style=\"text-align: right;\">\n",
              "      <th></th>\n",
              "      <th>experience</th>\n",
              "      <th>avg_salary</th>\n",
              "    </tr>\n",
              "  </thead>\n",
              "  <tbody>\n",
              "    <tr>\n",
              "      <th>0</th>\n",
              "      <td>Более 6 лет</td>\n",
              "      <td>NaN</td>\n",
              "    </tr>\n",
              "    <tr>\n",
              "      <th>1</th>\n",
              "      <td>Нет опыта</td>\n",
              "      <td>74643.0</td>\n",
              "    </tr>\n",
              "    <tr>\n",
              "      <th>2</th>\n",
              "      <td>От 1 года до 3 лет</td>\n",
              "      <td>139675.0</td>\n",
              "    </tr>\n",
              "    <tr>\n",
              "      <th>3</th>\n",
              "      <td>От 3 до 6 лет</td>\n",
              "      <td>243115.0</td>\n",
              "    </tr>\n",
              "  </tbody>\n",
              "</table>\n",
              "</div>"
            ],
            "text/plain": [
              "           experience  avg_salary\n",
              "0         Более 6 лет         NaN\n",
              "1           Нет опыта     74643.0\n",
              "2  От 1 года до 3 лет    139675.0\n",
              "3       От 3 до 6 лет    243115.0"
            ]
          },
          "execution_count": 48,
          "metadata": {},
          "output_type": "execute_result"
        }
      ],
      "source": [
        "# результат запроса\n",
        "DS_avg_salary = pd.read_sql_query(query_6_6, connection)\n",
        "DS_avg_salary"
      ]
    },
    {
      "attachments": {},
      "cell_type": "markdown",
      "id": "6a7892b4-4113-4746-adce-18aa2844f18e",
      "metadata": {
        "id": "6a7892b4-4113-4746-adce-18aa2844f18e"
      },
      "source": [
        "***"
      ]
    },
    {
      "attachments": {},
      "cell_type": "markdown",
      "id": "a43bac81",
      "metadata": {},
      "source": [
        "Предметный анализ показал следующее.\n",
        "\n",
        "1. 1771 вакансия из 49197 (3,6%) так или иначе относятся к работе с данными.\n",
        "\n",
        "2. 51 вакансия (0,1% от общего количества и 2,9% от связанных с работой с данными) подходят для начинающего дата-сайентиста. Числа из п.1 и 2 могут показаться незначительными. Но это только в относительном выражении. В абсолютном же исчислении они довольно внушительны и однозначно указывают на востребованность профессии дата-сайентиста на рынке труда.\n",
        "\n",
        "3. В 201 вакансии, подходящей для дата-сайентиста, требуются знания SQL или PostgreSQL, что неудивительно, поскольку получение данных из базы - один из ключевых навыков для представителей данной профессии.\n",
        "\n",
        "4. То же самое можно сказать и о навыках владения языком программирования Python, который требуется в 351 вакансии. Полученные данные необходимо обработать для построения моделей машинного обучения. Python - наиболее популярный инструмент для этой цели.\n",
        "\n",
        "5. Вообще дата-сайентист должен обладать целым спектром навыков, на что недвусмысленно указывает и другой показатель, полученный в ходе исследования - 6,4. Именно столько в среднем навыков указывается в вакансиях для дата-сайентистов.\n",
        "\n",
        "6. Безусловно, такая профессия должна и оплачиваться соответствующе. В ходе исследования было установлено, что средняя зарплата, указываемая в вакансиях для дата-сайентистов, составляет 74.643 руб. для начинающих специалистов, 139.675 руб. - для специалистов с опытом от 1 года до 3 лет и 243.115 руб. - для специалистов с опытом работы от 3 до 6 лет."
      ]
    },
    {
      "attachments": {},
      "cell_type": "markdown",
      "id": "c0ED6fh7wiBT",
      "metadata": {
        "id": "c0ED6fh7wiBT"
      },
      "source": [
        "# Общий вывод по проекту"
      ]
    },
    {
      "attachments": {},
      "cell_type": "markdown",
      "id": "f15ff03a",
      "metadata": {},
      "source": [
        "Проведём несколько дополнительных исследований.\n",
        "\n",
        "Выясним, какие вакансии преобладают на рынке труда."
      ]
    },
    {
      "cell_type": "code",
      "execution_count": 49,
      "id": "a1d79abd",
      "metadata": {},
      "outputs": [],
      "source": [
        "query_7_1 = f'''SELECT\n",
        "                    DISTINCT name, /*Выбираем уникальные записи в столбце name*/\n",
        "                    COUNT(name) /*Считаем количество записей в столбце name*/\n",
        "                FROM public.vacancies /*Из таблицы vacancies*/\n",
        "                GROUP BY name /*Группируем по столбцу name*/\n",
        "                ORDER BY 2 DESC /*Сортируем по убыванию по столбцу 2*/\n",
        "            '''"
      ]
    },
    {
      "cell_type": "code",
      "execution_count": 50,
      "id": "77652309",
      "metadata": {},
      "outputs": [
        {
          "data": {
            "text/html": [
              "<div>\n",
              "<style scoped>\n",
              "    .dataframe tbody tr th:only-of-type {\n",
              "        vertical-align: middle;\n",
              "    }\n",
              "\n",
              "    .dataframe tbody tr th {\n",
              "        vertical-align: top;\n",
              "    }\n",
              "\n",
              "    .dataframe thead th {\n",
              "        text-align: right;\n",
              "    }\n",
              "</style>\n",
              "<table border=\"1\" class=\"dataframe\">\n",
              "  <thead>\n",
              "    <tr style=\"text-align: right;\">\n",
              "      <th></th>\n",
              "      <th>name</th>\n",
              "      <th>count</th>\n",
              "    </tr>\n",
              "  </thead>\n",
              "  <tbody>\n",
              "    <tr>\n",
              "      <th>0</th>\n",
              "      <td>Системный администратор</td>\n",
              "      <td>1761</td>\n",
              "    </tr>\n",
              "    <tr>\n",
              "      <th>1</th>\n",
              "      <td>Программист 1С</td>\n",
              "      <td>1153</td>\n",
              "    </tr>\n",
              "    <tr>\n",
              "      <th>2</th>\n",
              "      <td>Бизнес-аналитик</td>\n",
              "      <td>488</td>\n",
              "    </tr>\n",
              "    <tr>\n",
              "      <th>3</th>\n",
              "      <td>Специалист технической поддержки</td>\n",
              "      <td>457</td>\n",
              "    </tr>\n",
              "    <tr>\n",
              "      <th>4</th>\n",
              "      <td>Системный аналитик</td>\n",
              "      <td>432</td>\n",
              "    </tr>\n",
              "    <tr>\n",
              "      <th>5</th>\n",
              "      <td>Аналитик</td>\n",
              "      <td>404</td>\n",
              "    </tr>\n",
              "    <tr>\n",
              "      <th>6</th>\n",
              "      <td>Инженер-программист</td>\n",
              "      <td>389</td>\n",
              "    </tr>\n",
              "    <tr>\n",
              "      <th>7</th>\n",
              "      <td>Программист 1C</td>\n",
              "      <td>360</td>\n",
              "    </tr>\n",
              "    <tr>\n",
              "      <th>8</th>\n",
              "      <td>Frontend-разработчик</td>\n",
              "      <td>242</td>\n",
              "    </tr>\n",
              "    <tr>\n",
              "      <th>9</th>\n",
              "      <td>Инженер технической поддержки</td>\n",
              "      <td>230</td>\n",
              "    </tr>\n",
              "  </tbody>\n",
              "</table>\n",
              "</div>"
            ],
            "text/plain": [
              "                               name  count\n",
              "0           Системный администратор   1761\n",
              "1                    Программист 1С   1153\n",
              "2                   Бизнес-аналитик    488\n",
              "3  Специалист технической поддержки    457\n",
              "4                Системный аналитик    432\n",
              "5                          Аналитик    404\n",
              "6               Инженер-программист    389\n",
              "7                    Программист 1C    360\n",
              "8              Frontend-разработчик    242\n",
              "9     Инженер технической поддержки    230"
            ]
          },
          "execution_count": 50,
          "metadata": {},
          "output_type": "execute_result"
        }
      ],
      "source": [
        "range_vacancies = pd.read_sql_query(query_7_1, connection)\n",
        "range_vacancies.head(10) # Выведем топ-10 вакансий."
      ]
    },
    {
      "attachments": {},
      "cell_type": "markdown",
      "id": "0c1dcbbd",
      "metadata": {},
      "source": [
        "Как видно из запроса, среди топ-10 вакансий на рынке труда более всего требуются системные администраторы. Помимо этого, очень востребованы специальности, связанные с программированием и аналитикой. Данный факт легко объясним. От работы системного администратора зависит бесперебойная работа как отдела, так и компании в целом. В современном мире IT-технологий стабильная работа компьютерной техники имеет решающее значение. Что касается программирования, то это основа IT-индустрии. Программисты будут востребованы всегда, разница может только заключаться в востребованности тех или иных языков программирования. Аналитика - важная составляющая бизнеса. От хорошей работы аналитичесвих отделов напрямую зависит доходность компании, поэтому востребованность аналитиков так высока."
      ]
    },
    {
      "attachments": {},
      "cell_type": "markdown",
      "id": "d74beefa",
      "metadata": {},
      "source": [
        "Теперь определим, какие навыки наиболее востребованы на рынке труда."
      ]
    },
    {
      "cell_type": "code",
      "execution_count": 51,
      "id": "ab50589f",
      "metadata": {},
      "outputs": [],
      "source": [
        "# Вначале создадим запрос, который выведет нам все комбинации навыков, упоминаемых в таблице vacancies\n",
        "query_7_2 = f'''SELECT \n",
        "                    key_skills /*Выбираем столбец key_skills*/\n",
        "                FROM public.vacancies /*Из таблицы vacancies*/\n",
        "            '''"
      ]
    },
    {
      "cell_type": "code",
      "execution_count": 52,
      "id": "a4387169",
      "metadata": {},
      "outputs": [
        {
          "data": {
            "text/html": [
              "<div>\n",
              "<style scoped>\n",
              "    .dataframe tbody tr th:only-of-type {\n",
              "        vertical-align: middle;\n",
              "    }\n",
              "\n",
              "    .dataframe tbody tr th {\n",
              "        vertical-align: top;\n",
              "    }\n",
              "\n",
              "    .dataframe thead th {\n",
              "        text-align: right;\n",
              "    }\n",
              "</style>\n",
              "<table border=\"1\" class=\"dataframe\">\n",
              "  <thead>\n",
              "    <tr style=\"text-align: right;\">\n",
              "      <th></th>\n",
              "      <th>key_skills</th>\n",
              "    </tr>\n",
              "  </thead>\n",
              "  <tbody>\n",
              "    <tr>\n",
              "      <th>0</th>\n",
              "      <td>Пользователь ПК\\tРабота в команде\\tРемонт ноут...</td>\n",
              "    </tr>\n",
              "    <tr>\n",
              "      <th>1</th>\n",
              "      <td>Средства криптографической защиты информации\\t...</td>\n",
              "    </tr>\n",
              "    <tr>\n",
              "      <th>2</th>\n",
              "      <td>Spring Framework\\tSQL\\tHibernate ORM\\tJava\\tGit</td>\n",
              "    </tr>\n",
              "    <tr>\n",
              "      <th>3</th>\n",
              "      <td>Spring Framework\\tSQL\\tHibernate ORM\\tJava\\tGit</td>\n",
              "    </tr>\n",
              "    <tr>\n",
              "      <th>5</th>\n",
              "      <td>Корректура текстов\\tГрамотность\\tРабота в кома...</td>\n",
              "    </tr>\n",
              "    <tr>\n",
              "      <th>...</th>\n",
              "      <td>...</td>\n",
              "    </tr>\n",
              "    <tr>\n",
              "      <th>49191</th>\n",
              "      <td>Управление проектами\\tДеловая коммуникация\\tОр...</td>\n",
              "    </tr>\n",
              "    <tr>\n",
              "      <th>49192</th>\n",
              "      <td>Электронный документооборот\\t1С: Предприятие 8...</td>\n",
              "    </tr>\n",
              "    <tr>\n",
              "      <th>49193</th>\n",
              "      <td>Оптимизация бизнес-процессов\\tСтратегическое м...</td>\n",
              "    </tr>\n",
              "    <tr>\n",
              "      <th>49194</th>\n",
              "      <td>Организаторские навыки\\tУправление персоналом\\...</td>\n",
              "    </tr>\n",
              "    <tr>\n",
              "      <th>49195</th>\n",
              "      <td>Swift\\tRealm\\tiOS\\tАнглийский язык\\tMVP\\tMVVM\\...</td>\n",
              "    </tr>\n",
              "  </tbody>\n",
              "</table>\n",
              "<p>40741 rows × 1 columns</p>\n",
              "</div>"
            ],
            "text/plain": [
              "                                              key_skills\n",
              "0      Пользователь ПК\\tРабота в команде\\tРемонт ноут...\n",
              "1      Средства криптографической защиты информации\\t...\n",
              "2        Spring Framework\\tSQL\\tHibernate ORM\\tJava\\tGit\n",
              "3        Spring Framework\\tSQL\\tHibernate ORM\\tJava\\tGit\n",
              "5      Корректура текстов\\tГрамотность\\tРабота в кома...\n",
              "...                                                  ...\n",
              "49191  Управление проектами\\tДеловая коммуникация\\tОр...\n",
              "49192  Электронный документооборот\\t1С: Предприятие 8...\n",
              "49193  Оптимизация бизнес-процессов\\tСтратегическое м...\n",
              "49194  Организаторские навыки\\tУправление персоналом\\...\n",
              "49195  Swift\\tRealm\\tiOS\\tАнглийский язык\\tMVP\\tMVVM\\...\n",
              "\n",
              "[40741 rows x 1 columns]"
            ]
          },
          "execution_count": 52,
          "metadata": {},
          "output_type": "execute_result"
        }
      ],
      "source": [
        "# Выведем результат запроса\n",
        "all_skills = pd.read_sql_query(query_7_2, connection)\n",
        "all_skills.dropna(inplace=True) # Сразу удалим пустые строки\n",
        "all_skills"
      ]
    },
    {
      "cell_type": "code",
      "execution_count": 53,
      "id": "daa56401",
      "metadata": {},
      "outputs": [
        {
          "data": {
            "text/html": [
              "<div>\n",
              "<style scoped>\n",
              "    .dataframe tbody tr th:only-of-type {\n",
              "        vertical-align: middle;\n",
              "    }\n",
              "\n",
              "    .dataframe tbody tr th {\n",
              "        vertical-align: top;\n",
              "    }\n",
              "\n",
              "    .dataframe thead th {\n",
              "        text-align: right;\n",
              "    }\n",
              "</style>\n",
              "<table border=\"1\" class=\"dataframe\">\n",
              "  <thead>\n",
              "    <tr style=\"text-align: right;\">\n",
              "      <th></th>\n",
              "      <th>Навык</th>\n",
              "      <th>Кол-во</th>\n",
              "    </tr>\n",
              "  </thead>\n",
              "  <tbody>\n",
              "    <tr>\n",
              "      <th>15</th>\n",
              "      <td>SQL</td>\n",
              "      <td>6977</td>\n",
              "    </tr>\n",
              "    <tr>\n",
              "      <th>18</th>\n",
              "      <td>Git</td>\n",
              "      <td>4731</td>\n",
              "    </tr>\n",
              "    <tr>\n",
              "      <th>67</th>\n",
              "      <td>Английский язык</td>\n",
              "      <td>4525</td>\n",
              "    </tr>\n",
              "    <tr>\n",
              "      <th>1</th>\n",
              "      <td>Работа в команде</td>\n",
              "      <td>3923</td>\n",
              "    </tr>\n",
              "    <tr>\n",
              "      <th>30</th>\n",
              "      <td>Linux</td>\n",
              "      <td>3747</td>\n",
              "    </tr>\n",
              "    <tr>\n",
              "      <th>22</th>\n",
              "      <td>JavaScript</td>\n",
              "      <td>3625</td>\n",
              "    </tr>\n",
              "    <tr>\n",
              "      <th>78</th>\n",
              "      <td>Python</td>\n",
              "      <td>3445</td>\n",
              "    </tr>\n",
              "    <tr>\n",
              "      <th>57</th>\n",
              "      <td>Управление проектами</td>\n",
              "      <td>2764</td>\n",
              "    </tr>\n",
              "    <tr>\n",
              "      <th>43</th>\n",
              "      <td>1С программирование</td>\n",
              "      <td>2647</td>\n",
              "    </tr>\n",
              "    <tr>\n",
              "      <th>48</th>\n",
              "      <td>PostgreSQL</td>\n",
              "      <td>2452</td>\n",
              "    </tr>\n",
              "  </tbody>\n",
              "</table>\n",
              "</div>"
            ],
            "text/plain": [
              "                   Навык  Кол-во\n",
              "15                   SQL    6977\n",
              "18                   Git    4731\n",
              "67       Английский язык    4525\n",
              "1       Работа в команде    3923\n",
              "30                 Linux    3747\n",
              "22            JavaScript    3625\n",
              "78                Python    3445\n",
              "57  Управление проектами    2764\n",
              "43   1С программирование    2647\n",
              "48            PostgreSQL    2452"
            ]
          },
          "execution_count": 53,
          "metadata": {},
          "output_type": "execute_result"
        }
      ],
      "source": [
        "# Разделим записи в каждой строке по знаку табуляции при помощи лямбда-функции:\n",
        "all_skills['key_skills'] = all_skills['key_skills'].apply(lambda x: x.split('\\t'))\n",
        "\n",
        "# Создадим пустой словарь. Ключами в нём будут навыки, а значениями - количество упоминаний этих навыков в таблице vacancies:\n",
        "skills = {}\n",
        "\n",
        "\n",
        "# Напишем функцию, принимающую на вход ячейку столбца и ищущую в нём отдельные навыки:\n",
        "def find_skill(col):\n",
        "    for elem in col: # Проверяем каждый элемент списка из ячейки\n",
        "        if elem in skills.keys(): # Если элемент присутствует в качестве ключа в словаре skills, то значение под этим ключом увеличиваем на 1\n",
        "            skills[elem] += 1\n",
        "        else: # Если элемент отсутствует в качестве ключа в словаре skills, то заносим в словарь такой ключ со значением 1\n",
        "            skills[elem] = 1\n",
        "    return skills # Фукция возвращает словарь\n",
        "\n",
        "\n",
        "all_skills['key_skills'].apply(find_skill) # Применяем функцию к столбцу key_skills\n",
        "# Для удобства преобразуем словарь skills в таблицу skills_table\n",
        "skills_table = pd.DataFrame(list(skills.items()), columns = ['Навык', 'Кол-во'])\n",
        "skills_table = skills_table.sort_values(by='Кол-во', ascending=False) # Отсортируем по убыванию по столбцу \"Кол-во\"\n",
        "skills_table.head(10) # Выведем топ-10 навыков"
      ]
    },
    {
      "attachments": {},
      "cell_type": "markdown",
      "id": "8aa060bb",
      "metadata": {},
      "source": [
        "Как видим, знание SQL является самым востребованным. Оно почти в полтора раза превышает второй по востребованности навык - Git, а если объединить навыки SQL и PostgreSQL, то разница между топ-1 и топ-2 навыми будет практически двукратной. Безусловно, данный вывод весьма приблизителен, поскольку, как мы видим, в запросе объединились как хард-, так и софт-скиллы (например, работа в команде), но примерные представления о востребованности навыков на рынке труда данный запрос, вне всякого сомнения, даёт."
      ]
    },
    {
      "attachments": {},
      "cell_type": "markdown",
      "id": "77b1f24f",
      "metadata": {},
      "source": [
        "Теперь поробуем определить ключевые навыки для дата-сайентиста."
      ]
    },
    {
      "cell_type": "code",
      "execution_count": 54,
      "id": "17e47596",
      "metadata": {},
      "outputs": [],
      "source": [
        "# Вначале создадим запрос, аналогичный предыдущему, но с фильтром для дата-сайентиста, который мы применялм ранее:\n",
        "query_7_3 = f'''SELECT \n",
        "                    key_skills \n",
        "                FROM public.vacancies \n",
        "                WHERE \n",
        "                    (\n",
        "                    LOWER(name) like '%data scientist%' OR \n",
        "                    LOWER(name) like '%data science%' OR \n",
        "                    LOWER(name) like '%исследователь данных%' OR \n",
        "                    (name not like '%HTML%' and name like '%ML%') OR \n",
        "                    LOWER(name) like '%machine learning%' OR \n",
        "                    LOWER(name) like '%машинн%обучен%'\n",
        "                    )\n",
        "            '''"
      ]
    },
    {
      "cell_type": "code",
      "execution_count": 55,
      "id": "c589a187",
      "metadata": {},
      "outputs": [
        {
          "data": {
            "text/html": [
              "<div>\n",
              "<style scoped>\n",
              "    .dataframe tbody tr th:only-of-type {\n",
              "        vertical-align: middle;\n",
              "    }\n",
              "\n",
              "    .dataframe tbody tr th {\n",
              "        vertical-align: top;\n",
              "    }\n",
              "\n",
              "    .dataframe thead th {\n",
              "        text-align: right;\n",
              "    }\n",
              "</style>\n",
              "<table border=\"1\" class=\"dataframe\">\n",
              "  <thead>\n",
              "    <tr style=\"text-align: right;\">\n",
              "      <th></th>\n",
              "      <th>key_skills</th>\n",
              "    </tr>\n",
              "  </thead>\n",
              "  <tbody>\n",
              "    <tr>\n",
              "      <th>0</th>\n",
              "      <td>Python\\tSQL\\tРабота в команде\\tOpenCV\\tML</td>\n",
              "    </tr>\n",
              "    <tr>\n",
              "      <th>1</th>\n",
              "      <td>Oracle Pl/SQL\\tБазы данных\\tMachine Learning\\t...</td>\n",
              "    </tr>\n",
              "    <tr>\n",
              "      <th>2</th>\n",
              "      <td>Python\\tOpenCV\\tTensorflow\\tComputer Vision\\tН...</td>\n",
              "    </tr>\n",
              "    <tr>\n",
              "      <th>3</th>\n",
              "      <td>Python\\tFlask\\tLinux\\tAWS\\tGit</td>\n",
              "    </tr>\n",
              "    <tr>\n",
              "      <th>4</th>\n",
              "      <td>Python\\tSQL\\tNLP\\tScikit-learn\\tMachine Learning</td>\n",
              "    </tr>\n",
              "    <tr>\n",
              "      <th>...</th>\n",
              "      <td>...</td>\n",
              "    </tr>\n",
              "    <tr>\n",
              "      <th>475</th>\n",
              "      <td>Python\\tNumpy\\tPyTorch\\tPandas\\tМатематический...</td>\n",
              "    </tr>\n",
              "    <tr>\n",
              "      <th>476</th>\n",
              "      <td>Python\\tScikit-learn\\tPandas\\tGit\\tNumpy</td>\n",
              "    </tr>\n",
              "    <tr>\n",
              "      <th>477</th>\n",
              "      <td>Qt\\tООП\\tC++\\tMS Visual Studio\\tРазработка ком...</td>\n",
              "    </tr>\n",
              "    <tr>\n",
              "      <th>478</th>\n",
              "      <td>SCALA\\tSQL\\tМатематический анализ\\tСтатистичес...</td>\n",
              "    </tr>\n",
              "    <tr>\n",
              "      <th>479</th>\n",
              "      <td>Python\\tLinux\\tKubernetes\\tAWS\\tGit\\tPeople Ma...</td>\n",
              "    </tr>\n",
              "  </tbody>\n",
              "</table>\n",
              "<p>431 rows × 1 columns</p>\n",
              "</div>"
            ],
            "text/plain": [
              "                                            key_skills\n",
              "0            Python\\tSQL\\tРабота в команде\\tOpenCV\\tML\n",
              "1    Oracle Pl/SQL\\tБазы данных\\tMachine Learning\\t...\n",
              "2    Python\\tOpenCV\\tTensorflow\\tComputer Vision\\tН...\n",
              "3                       Python\\tFlask\\tLinux\\tAWS\\tGit\n",
              "4     Python\\tSQL\\tNLP\\tScikit-learn\\tMachine Learning\n",
              "..                                                 ...\n",
              "475  Python\\tNumpy\\tPyTorch\\tPandas\\tМатематический...\n",
              "476           Python\\tScikit-learn\\tPandas\\tGit\\tNumpy\n",
              "477  Qt\\tООП\\tC++\\tMS Visual Studio\\tРазработка ком...\n",
              "478  SCALA\\tSQL\\tМатематический анализ\\tСтатистичес...\n",
              "479  Python\\tLinux\\tKubernetes\\tAWS\\tGit\\tPeople Ma...\n",
              "\n",
              "[431 rows x 1 columns]"
            ]
          },
          "execution_count": 55,
          "metadata": {},
          "output_type": "execute_result"
        }
      ],
      "source": [
        "# Выведем результат запроса\n",
        "DS_skills = pd.read_sql_query(query_7_3, connection)\n",
        "DS_skills.dropna(inplace=True) # Сразу удалим пустые строки\n",
        "DS_skills"
      ]
    },
    {
      "cell_type": "code",
      "execution_count": 56,
      "id": "7df88663",
      "metadata": {},
      "outputs": [
        {
          "data": {
            "text/html": [
              "<div>\n",
              "<style scoped>\n",
              "    .dataframe tbody tr th:only-of-type {\n",
              "        vertical-align: middle;\n",
              "    }\n",
              "\n",
              "    .dataframe tbody tr th {\n",
              "        vertical-align: top;\n",
              "    }\n",
              "\n",
              "    .dataframe thead th {\n",
              "        text-align: right;\n",
              "    }\n",
              "</style>\n",
              "<table border=\"1\" class=\"dataframe\">\n",
              "  <thead>\n",
              "    <tr style=\"text-align: right;\">\n",
              "      <th></th>\n",
              "      <th>Навык</th>\n",
              "      <th>Кол-во</th>\n",
              "    </tr>\n",
              "  </thead>\n",
              "  <tbody>\n",
              "    <tr>\n",
              "      <th>0</th>\n",
              "      <td>Python</td>\n",
              "      <td>348</td>\n",
              "    </tr>\n",
              "    <tr>\n",
              "      <th>1</th>\n",
              "      <td>SQL</td>\n",
              "      <td>191</td>\n",
              "    </tr>\n",
              "    <tr>\n",
              "      <th>7</th>\n",
              "      <td>Machine Learning</td>\n",
              "      <td>114</td>\n",
              "    </tr>\n",
              "    <tr>\n",
              "      <th>9</th>\n",
              "      <td>Git</td>\n",
              "      <td>66</td>\n",
              "    </tr>\n",
              "    <tr>\n",
              "      <th>25</th>\n",
              "      <td>Математическая статистика</td>\n",
              "      <td>62</td>\n",
              "    </tr>\n",
              "    <tr>\n",
              "      <th>40</th>\n",
              "      <td>Data Analysis</td>\n",
              "      <td>54</td>\n",
              "    </tr>\n",
              "    <tr>\n",
              "      <th>45</th>\n",
              "      <td>Data Science</td>\n",
              "      <td>52</td>\n",
              "    </tr>\n",
              "    <tr>\n",
              "      <th>63</th>\n",
              "      <td>Pandas</td>\n",
              "      <td>52</td>\n",
              "    </tr>\n",
              "    <tr>\n",
              "      <th>4</th>\n",
              "      <td>ML</td>\n",
              "      <td>49</td>\n",
              "    </tr>\n",
              "    <tr>\n",
              "      <th>43</th>\n",
              "      <td>Английский язык</td>\n",
              "      <td>48</td>\n",
              "    </tr>\n",
              "  </tbody>\n",
              "</table>\n",
              "</div>"
            ],
            "text/plain": [
              "                        Навык  Кол-во\n",
              "0                      Python     348\n",
              "1                         SQL     191\n",
              "7            Machine Learning     114\n",
              "9                         Git      66\n",
              "25  Математическая статистика      62\n",
              "40              Data Analysis      54\n",
              "45               Data Science      52\n",
              "63                     Pandas      52\n",
              "4                          ML      49\n",
              "43            Английский язык      48"
            ]
          },
          "execution_count": 56,
          "metadata": {},
          "output_type": "execute_result"
        }
      ],
      "source": [
        "# Разделим записи в каждой строке по знаку табуляции при помощи лямбда-функции:\n",
        "DS_skills['key_skills'] = DS_skills['key_skills'].apply(lambda x: x.split('\\t'))\n",
        "\n",
        "# Создадим пустой словарь. Ключами в нём будут навыки, а значениями - количество упоминаний этих навыков в таблице vacancies:\n",
        "skills_for_DS = {}\n",
        "\n",
        "\n",
        "# Напишем функцию, принимающую на вход ячейку столбца и ищущую в нём отдельные навыки:\n",
        "def find_DS_skill(col):\n",
        "    for elem in col: # Проверяем каждый элемент списка из ячейки\n",
        "        if elem in skills_for_DS.keys(): # Если элемент присутствует в качестве ключа в словаре skills_for_DS, то значение под этим ключом увеличиваем на 1\n",
        "            skills_for_DS[elem] += 1\n",
        "        else: # Если элемент отсутствует в качестве ключа в словаре skills_for_DS, то заносим в словарь такой ключ со значением 1\n",
        "            skills_for_DS[elem] = 1\n",
        "    return skills_for_DS # Фукция возвращает словарь\n",
        "\n",
        "\n",
        "DS_skills['key_skills'].apply(find_DS_skill) # Применяем функцию к столбцу key_skills\n",
        "# Для удобства преобразуем словарь skills_for_DS в таблицу DS_skills_table\n",
        "DS_skills_table = pd.DataFrame(list(skills_for_DS.items()), columns = ['Навык', 'Кол-во'])\n",
        "DS_skills_table = DS_skills_table.sort_values(by='Кол-во', ascending=False) # Отсортируем по убыванию по столбцу \"Кол-во\"\n",
        "DS_skills_table.head(10) # Выведем топ-10 навыков"
      ]
    },
    {
      "attachments": {},
      "cell_type": "markdown",
      "id": "b38e079d",
      "metadata": {},
      "source": [
        "Как видно из таблицы, для дата-сайентистов ключевым навыком становится знание Python, а SQL отходит на второе место с чуть мнее, чем двукратным отрывом. Помимо этого, часто упоминаются такие навыки, как Machine Learning, Git, Data Analysis/Science. Кроме того, важное место приобретает знание математической статистики. Происходит это по той причине, что для дата-сайентиста принципиальное значение имеет умение обрабатывать полученные данные и выстраивать по ним машинное обучение."
      ]
    },
    {
      "attachments": {},
      "cell_type": "markdown",
      "id": "82c23024",
      "metadata": {},
      "source": [
        "Меня, как жителя города Энгельса (город-спутник Саратова), естественно, интересует рынок труда в Саратове и Энгельсе. Я позволю мебе воспользоваться случаем и провести соответствующие исследования.\n",
        "\n",
        "Вначале выясним, какие вакансии преобладают в Саратове и Энгельсе."
      ]
    },
    {
      "cell_type": "code",
      "execution_count": 57,
      "id": "b6d491f7",
      "metadata": {},
      "outputs": [],
      "source": [
        "query_7_4 = f'''SELECT\n",
        "                    DISTINCT v.name, /*Выбираем уникальные записи в столбце name*/\n",
        "                    COUNT(v.name) /*Считаем количество записей в столбце name*/\n",
        "                FROM public.vacancies v /*Из таблицы vacancies с алиасом v*/\n",
        "                JOIN public.areas a ON v.area_id = a.id /*Присоединяем таблицу areas с алиасом а по столбцам v.area_id и a.id*/\n",
        "                WHERE a.name = 'Саратов' OR a.name = 'Энгельс' /*где значение в солбце a.name является \"Саратов\" или \"Энгельс\"*/\n",
        "                GROUP BY v.name /*Группируем по столбцу name*/\n",
        "                ORDER BY 2 DESC /*Сортируем по убыванию по столбцу 2*/\n",
        "            '''"
      ]
    },
    {
      "cell_type": "code",
      "execution_count": 58,
      "id": "ec62dace",
      "metadata": {},
      "outputs": [
        {
          "data": {
            "text/html": [
              "<div>\n",
              "<style scoped>\n",
              "    .dataframe tbody tr th:only-of-type {\n",
              "        vertical-align: middle;\n",
              "    }\n",
              "\n",
              "    .dataframe tbody tr th {\n",
              "        vertical-align: top;\n",
              "    }\n",
              "\n",
              "    .dataframe thead th {\n",
              "        text-align: right;\n",
              "    }\n",
              "</style>\n",
              "<table border=\"1\" class=\"dataframe\">\n",
              "  <thead>\n",
              "    <tr style=\"text-align: right;\">\n",
              "      <th></th>\n",
              "      <th>name</th>\n",
              "      <th>count</th>\n",
              "    </tr>\n",
              "  </thead>\n",
              "  <tbody>\n",
              "    <tr>\n",
              "      <th>0</th>\n",
              "      <td>Программист 1С</td>\n",
              "      <td>29</td>\n",
              "    </tr>\n",
              "    <tr>\n",
              "      <th>1</th>\n",
              "      <td>Системный администратор</td>\n",
              "      <td>25</td>\n",
              "    </tr>\n",
              "    <tr>\n",
              "      <th>2</th>\n",
              "      <td>Специалист технической поддержки</td>\n",
              "      <td>14</td>\n",
              "    </tr>\n",
              "    <tr>\n",
              "      <th>3</th>\n",
              "      <td>Системный аналитик</td>\n",
              "      <td>10</td>\n",
              "    </tr>\n",
              "    <tr>\n",
              "      <th>4</th>\n",
              "      <td>Программист 1C</td>\n",
              "      <td>8</td>\n",
              "    </tr>\n",
              "    <tr>\n",
              "      <th>5</th>\n",
              "      <td>Инженер-программист</td>\n",
              "      <td>5</td>\n",
              "    </tr>\n",
              "    <tr>\n",
              "      <th>6</th>\n",
              "      <td>Ведущий инженер-программист</td>\n",
              "      <td>4</td>\n",
              "    </tr>\n",
              "    <tr>\n",
              "      <th>7</th>\n",
              "      <td>Инженер технической поддержки</td>\n",
              "      <td>4</td>\n",
              "    </tr>\n",
              "    <tr>\n",
              "      <th>8</th>\n",
              "      <td>Программист</td>\n",
              "      <td>4</td>\n",
              "    </tr>\n",
              "    <tr>\n",
              "      <th>9</th>\n",
              "      <td>Технический директор</td>\n",
              "      <td>4</td>\n",
              "    </tr>\n",
              "  </tbody>\n",
              "</table>\n",
              "</div>"
            ],
            "text/plain": [
              "                               name  count\n",
              "0                    Программист 1С     29\n",
              "1           Системный администратор     25\n",
              "2  Специалист технической поддержки     14\n",
              "3                Системный аналитик     10\n",
              "4                    Программист 1C      8\n",
              "5               Инженер-программист      5\n",
              "6       Ведущий инженер-программист      4\n",
              "7     Инженер технической поддержки      4\n",
              "8                       Программист      4\n",
              "9              Технический директор      4"
            ]
          },
          "execution_count": 58,
          "metadata": {},
          "output_type": "execute_result"
        }
      ],
      "source": [
        "# Выведем результат запроса\n",
        "saratov_vacancies = pd.read_sql_query(query_7_4, connection)\n",
        "saratov_vacancies.head(10) # Выведем топ-10 вакансий."
      ]
    },
    {
      "attachments": {},
      "cell_type": "markdown",
      "id": "b2d8dfb3",
      "metadata": {},
      "source": [
        "Итак, самыми популярными вакансиями в Энгельсе и Саратове фвляются Программист 1С, Системный администратор, Специалист технической поддержки и Системный аналитик. Остальные вакансии представлены в незначительном количестве.\n",
        "\n",
        "Проанализируем, на какую зарплату можно претендовать в Саратове и Энгельсе."
      ]
    },
    {
      "cell_type": "code",
      "execution_count": 59,
      "id": "c4bffd6a",
      "metadata": {},
      "outputs": [],
      "source": [
        "query_7_5 = f'''SELECT\n",
        "                    ROUND(AVG(COALESCE((v.salary_from + v.salary_to) / 2, v.salary_from, v.salary_to))) avg_salary /*Считаем среднюю зарплату по образцу запроса 6_6*/\n",
        "                FROM public.vacancies v /*Из таблицы vacancies с алиасом v*/\n",
        "                JOIN public.areas a ON v.area_id = a.id /*Присоединяем таблицу areas с алиасом а по столбцам v.area_id и a.id*/\n",
        "                WHERE a.name = 'Саратов' OR a.name = 'Энгельс' /*где значение в солбце a.name является \"Саратов\" или \"Энгельс\"*/\n",
        "            '''"
      ]
    },
    {
      "cell_type": "code",
      "execution_count": 60,
      "id": "1af209e9",
      "metadata": {},
      "outputs": [
        {
          "data": {
            "text/html": [
              "<div>\n",
              "<style scoped>\n",
              "    .dataframe tbody tr th:only-of-type {\n",
              "        vertical-align: middle;\n",
              "    }\n",
              "\n",
              "    .dataframe tbody tr th {\n",
              "        vertical-align: top;\n",
              "    }\n",
              "\n",
              "    .dataframe thead th {\n",
              "        text-align: right;\n",
              "    }\n",
              "</style>\n",
              "<table border=\"1\" class=\"dataframe\">\n",
              "  <thead>\n",
              "    <tr style=\"text-align: right;\">\n",
              "      <th></th>\n",
              "      <th>avg_salary</th>\n",
              "    </tr>\n",
              "  </thead>\n",
              "  <tbody>\n",
              "    <tr>\n",
              "      <th>0</th>\n",
              "      <td>69638.0</td>\n",
              "    </tr>\n",
              "  </tbody>\n",
              "</table>\n",
              "</div>"
            ],
            "text/plain": [
              "   avg_salary\n",
              "0     69638.0"
            ]
          },
          "execution_count": 60,
          "metadata": {},
          "output_type": "execute_result"
        }
      ],
      "source": [
        "# Выведем результат запроса\n",
        "saratov_salary = pd.read_sql_query(query_7_5, connection)\n",
        "saratov_salary"
      ]
    },
    {
      "attachments": {},
      "cell_type": "markdown",
      "id": "0e4cbdba",
      "metadata": {},
      "source": [
        "Итак, средняя зарплата, на которую может претендовать соискатель из Саратова или Энгельса, составляет почти 70 тыс. руб.\n",
        "\n",
        "Насколько это меньше или больше в сравнении с другими регионами? Создадим запрос, в котором сравним среднюю зарплату в моём родном регионе с зарплатой в Москве, Санкт-Петербурге, российиских городах-миллионниках и прочих регионах."
      ]
    },
    {
      "cell_type": "code",
      "execution_count": 63,
      "id": "2cf2853e",
      "metadata": {},
      "outputs": [],
      "source": [
        "query_7_6 = f'''SELECT\n",
        "    'Саратов и Энгельс' region,\n",
        "    ROUND(AVG(COALESCE((v.salary_from + v.salary_to) / 2, v.salary_from, v.salary_to))) avg_salary /*Считаем среднюю зарплату по образцу предыдущего запроса*/\n",
        "FROM public.vacancies v /*Из таблицы vacancies*/\n",
        "JOIN public.areas a ON v.area_id = a.id /*Присоединяем таблицу areas с алиасом а по столбцам v.area_id и a.id*/\n",
        "WHERE a.name = 'Саратов' OR a.name = 'Энгельс' /*где значение в солбце a.name является \"Саратов\" или \"Энгельс\"*/\n",
        "\n",
        "UNION ALL /*Оператор объединения*/\n",
        "\n",
        "SELECT /*Далее делаем аналогичные запросы, только меняя регионы*/\n",
        "    'Москва' region,\n",
        "    ROUND(AVG(COALESCE((v.salary_from + v.salary_to) / 2, v.salary_from, v.salary_to))) avg_salary \n",
        "FROM public.vacancies v\n",
        "JOIN public.areas a ON v.area_id = a.id \n",
        "WHERE a.name = 'Москва' /*где значение в солбце a.name является \"Москва\"*/\n",
        "\n",
        "UNION ALL\n",
        "\n",
        "SELECT\n",
        "    'Санкт-Петербург' region,\n",
        "    ROUND(AVG(COALESCE((v.salary_from + v.salary_to) / 2, v.salary_from, v.salary_to))) avg_salary \n",
        "FROM public.vacancies v \n",
        "JOIN public.areas a ON v.area_id = a.id \n",
        "WHERE a.name = 'Санкт-Петербург' /*где значение в солбце a.name является \"Санкт-Петербург\"*/\n",
        "\n",
        "UNION ALL\n",
        "\n",
        "SELECT\n",
        "    'Города-миллионники' region,\n",
        "    ROUND(AVG(COALESCE((v.salary_from + v.salary_to) / 2, v.salary_from, v.salary_to))) avg_salary \n",
        "FROM public.vacancies v \n",
        "JOIN public.areas a ON v.area_id = a.id \n",
        "WHERE a.name in {cities_millionairs} /*где значение в солбце a.name входит в кортеж cities_millionairs*/\n",
        "\n",
        "UNION ALL\n",
        "\n",
        "SELECT\n",
        "    'Прочие регионы' region,\n",
        "    ROUND(AVG(COALESCE((v.salary_from + v.salary_to) / 2, v.salary_from, v.salary_to))) avg_salary \n",
        "FROM public.vacancies v \n",
        "JOIN public.areas a ON v.area_id = a.id \n",
        "WHERE /*где значение в солбце a.name не входит ни в один из предыдущих запросов*/\n",
        "    a.name != 'Санкт-Петербург' AND \n",
        "    a.name != 'Москва' AND\n",
        "    a.name != 'Саратов' AND\n",
        "    a.name != 'Энгельс' AND\n",
        "    a.name not in {cities_millionairs} \n",
        "    \n",
        "ORDER BY 2 DESC /*Сортируем по убыванию по второму столбцу*/\n",
        "            '''"
      ]
    },
    {
      "cell_type": "code",
      "execution_count": 64,
      "id": "254bf0c4",
      "metadata": {},
      "outputs": [
        {
          "data": {
            "text/html": [
              "<div>\n",
              "<style scoped>\n",
              "    .dataframe tbody tr th:only-of-type {\n",
              "        vertical-align: middle;\n",
              "    }\n",
              "\n",
              "    .dataframe tbody tr th {\n",
              "        vertical-align: top;\n",
              "    }\n",
              "\n",
              "    .dataframe thead th {\n",
              "        text-align: right;\n",
              "    }\n",
              "</style>\n",
              "<table border=\"1\" class=\"dataframe\">\n",
              "  <thead>\n",
              "    <tr style=\"text-align: right;\">\n",
              "      <th></th>\n",
              "      <th>region</th>\n",
              "      <th>avg_salary</th>\n",
              "    </tr>\n",
              "  </thead>\n",
              "  <tbody>\n",
              "    <tr>\n",
              "      <th>0</th>\n",
              "      <td>Москва</td>\n",
              "      <td>134140.0</td>\n",
              "    </tr>\n",
              "    <tr>\n",
              "      <th>1</th>\n",
              "      <td>Санкт-Петербург</td>\n",
              "      <td>104410.0</td>\n",
              "    </tr>\n",
              "    <tr>\n",
              "      <th>2</th>\n",
              "      <td>Города-миллионники</td>\n",
              "      <td>97980.0</td>\n",
              "    </tr>\n",
              "    <tr>\n",
              "      <th>3</th>\n",
              "      <td>Прочие регионы</td>\n",
              "      <td>73754.0</td>\n",
              "    </tr>\n",
              "    <tr>\n",
              "      <th>4</th>\n",
              "      <td>Саратов и Энгельс</td>\n",
              "      <td>69638.0</td>\n",
              "    </tr>\n",
              "  </tbody>\n",
              "</table>\n",
              "</div>"
            ],
            "text/plain": [
              "               region  avg_salary\n",
              "0              Москва    134140.0\n",
              "1     Санкт-Петербург    104410.0\n",
              "2  Города-миллионники     97980.0\n",
              "3      Прочие регионы     73754.0\n",
              "4   Саратов и Энгельс     69638.0"
            ]
          },
          "execution_count": 64,
          "metadata": {},
          "output_type": "execute_result"
        }
      ],
      "source": [
        "# Выведем результат запроса\n",
        "saratov_salary_in_compair = pd.read_sql_query(query_7_6, connection)\n",
        "saratov_salary_in_compair"
      ]
    },
    {
      "attachments": {},
      "cell_type": "markdown",
      "id": "0538843b",
      "metadata": {},
      "source": [
        "Как видно из запроса, уровень заработной платы в Саратове и Энгельсе ниже, чем в прочих регионах и почти в два раза уступает соответствующим показателям в Москве."
      ]
    },
    {
      "attachments": {},
      "cell_type": "markdown",
      "id": "8c8d45fd",
      "metadata": {},
      "source": [
        "# <center> Вывод\n",
        "\n",
        "В базе данных есть в общей сложности 1771 вакансия, так или иначе связанная с обработкой данных и 51, подходящая для претендентов на позицию Data Scientist. Как показал анализ, для будущего дата-сайентиста ключевыми навыками, как и ожидалось, являются владение Python, SQL и машинным обучением. Больше всего вакансий представлено в городах Москва и Санкт_Петербург. После них, если брать только росийские города, идут города-миллионники. И в этих же городах самые высокие зарплаты. Такая тенденция свойственна для России не только в сфере IT-индустрии, но и в прочих сферах деятельности.\n",
        "\n",
        "Будущему соискателю необходимо знать, что наибольшие шансы у него получить работу будут в том случае, если он готов работать полный рабочий день по полной занятости, а также, если опыт работы у него от 1 года до 3 лет. Очевидно, что такая тенденция сложилась в силу того, что компании не хотят нанимать кандидатов без опыта работы, а опыт работы хотя бы от 1 года может свидетельствовать о том, что соискатель обладает необходимыми навыками на базовом уровне, понимает, что от него требуется и знает, как работать в команде.\n",
        "\n",
        "Среди работодателей, имеющихся в базе данных, преобладают крупные IT-компании, которые имеют филиалы в различных городах России. Объясняется это тем, что работа в крупной IT-компании имеет объективные преимущества. Это и более высокие зарплатные ожидания, и различные сферы деятельности, в которых можно проявить себя, и более высокие перспективы карьерного роста. Работа в крупных IT-компаниях может быть просто более интересной, хотя, без сомнения, это дело вкуса. Для дата-сайентиста работа в крупной компании является более преспективной, поскольку именно в такой компании могут проводиться крупные и масштабные проекты в области исследования данных и машинного обучения.\n",
        "\n",
        "Что касается Саратовского региона, то в плане работы в сфере IT он представляется не очень перспективным. Здесь не такой большой выбор вакансий и не самые высокие зарплатные перспективы. \n",
        "\n",
        "В целом проведённые исследования только подтвердили общую тенденцию, характерную для современного этапа развития экономики не только в России, но и во всём мире: концентрация высокотехнологических отраслей вокруг крупных центров. Именно здесь открываются более высокие перспективы как для карьерного роста, так и для роста благосостояния работников. На мой взгляд, именно такая тенденция будет преобладать в ближайшем будущем, а требования к опыту работы будут падать в связи с оттоком специалистов в области IT-технологий и, как следствие, необходимостью заменить их менее опытными кандидатами."
      ]
    },
    {
      "cell_type": "code",
      "execution_count": 65,
      "id": "9f827490",
      "metadata": {},
      "outputs": [],
      "source": [
        "# Закрываем соединение:\n",
        "connection.close()"
      ]
    }
  ],
  "metadata": {
    "colab": {
      "collapsed_sections": [
        "8d62a9f3-f64e-4fe7-bdac-c4dffa16155e"
      ],
      "provenance": []
    },
    "kernelspec": {
      "display_name": "Python 3 (ipykernel)",
      "language": "python",
      "name": "python3"
    },
    "language_info": {
      "codemirror_mode": {
        "name": "ipython",
        "version": 3
      },
      "file_extension": ".py",
      "mimetype": "text/x-python",
      "name": "python",
      "nbconvert_exporter": "python",
      "pygments_lexer": "ipython3",
      "version": "3.11.1"
    }
  },
  "nbformat": 4,
  "nbformat_minor": 5
}
